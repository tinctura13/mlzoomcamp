{
 "cells": [
  {
   "cell_type": "code",
   "execution_count": 132,
   "metadata": {},
   "outputs": [],
   "source": [
    "import numpy as np\n",
    "import pandas as pd\n",
    "\n",
    "from sklearn.feature_extraction import DictVectorizer\n",
    "from sklearn.linear_model import LinearRegression\n",
    "from sklearn.metrics import mean_squared_error, mutual_info_score\n",
    "from sklearn.model_selection import train_test_split\n",
    "from sklearn.preprocessing import OneHotEncoder, StandardScaler\n",
    "from sklearn.ensemble import RandomForestRegressor\n",
    "from sklearn.tree import DecisionTreeRegressor, plot_tree"
   ]
  },
  {
   "cell_type": "code",
   "execution_count": 133,
   "metadata": {},
   "outputs": [
    {
     "data": {
      "text/html": [
       "<div>\n",
       "<style scoped>\n",
       "    .dataframe tbody tr th:only-of-type {\n",
       "        vertical-align: middle;\n",
       "    }\n",
       "\n",
       "    .dataframe tbody tr th {\n",
       "        vertical-align: top;\n",
       "    }\n",
       "\n",
       "    .dataframe thead th {\n",
       "        text-align: right;\n",
       "    }\n",
       "</style>\n",
       "<table border=\"1\" class=\"dataframe\">\n",
       "  <thead>\n",
       "    <tr style=\"text-align: right;\">\n",
       "      <th></th>\n",
       "      <th>index</th>\n",
       "      <th>location</th>\n",
       "      <th>price</th>\n",
       "      <th>floor</th>\n",
       "      <th>area</th>\n",
       "      <th>is_furnished</th>\n",
       "      <th>rooms</th>\n",
       "    </tr>\n",
       "  </thead>\n",
       "  <tbody>\n",
       "    <tr>\n",
       "      <th>0</th>\n",
       "      <td>681098403</td>\n",
       "      <td>Алматы</td>\n",
       "      <td>280000</td>\n",
       "      <td>4</td>\n",
       "      <td>55.0</td>\n",
       "      <td>полностью</td>\n",
       "      <td>2</td>\n",
       "    </tr>\n",
       "    <tr>\n",
       "      <th>1</th>\n",
       "      <td>688558724</td>\n",
       "      <td>Сарыарка</td>\n",
       "      <td>165000</td>\n",
       "      <td>10</td>\n",
       "      <td>60.0</td>\n",
       "      <td>полностью</td>\n",
       "      <td>2</td>\n",
       "    </tr>\n",
       "    <tr>\n",
       "      <th>2</th>\n",
       "      <td>687779417</td>\n",
       "      <td>Есильский</td>\n",
       "      <td>200000</td>\n",
       "      <td>12</td>\n",
       "      <td>40.0</td>\n",
       "      <td>полностью</td>\n",
       "      <td>1</td>\n",
       "    </tr>\n",
       "    <tr>\n",
       "      <th>3</th>\n",
       "      <td>681851810</td>\n",
       "      <td>Алматы</td>\n",
       "      <td>300000</td>\n",
       "      <td>9</td>\n",
       "      <td>55.0</td>\n",
       "      <td>полностью</td>\n",
       "      <td>2</td>\n",
       "    </tr>\n",
       "    <tr>\n",
       "      <th>4</th>\n",
       "      <td>688418774</td>\n",
       "      <td>Сарыарка</td>\n",
       "      <td>180000</td>\n",
       "      <td>8</td>\n",
       "      <td>40.0</td>\n",
       "      <td>полностью</td>\n",
       "      <td>1</td>\n",
       "    </tr>\n",
       "    <tr>\n",
       "      <th>...</th>\n",
       "      <td>...</td>\n",
       "      <td>...</td>\n",
       "      <td>...</td>\n",
       "      <td>...</td>\n",
       "      <td>...</td>\n",
       "      <td>...</td>\n",
       "      <td>...</td>\n",
       "    </tr>\n",
       "    <tr>\n",
       "      <th>4227</th>\n",
       "      <td>685451375</td>\n",
       "      <td>Алматы</td>\n",
       "      <td>250000</td>\n",
       "      <td>10</td>\n",
       "      <td>72.0</td>\n",
       "      <td>частично</td>\n",
       "      <td>4</td>\n",
       "    </tr>\n",
       "    <tr>\n",
       "      <th>4228</th>\n",
       "      <td>681736449</td>\n",
       "      <td>Есильский</td>\n",
       "      <td>290000</td>\n",
       "      <td>7</td>\n",
       "      <td>69.0</td>\n",
       "      <td>полностью</td>\n",
       "      <td>5</td>\n",
       "    </tr>\n",
       "    <tr>\n",
       "      <th>4229</th>\n",
       "      <td>682406566</td>\n",
       "      <td>Есильский</td>\n",
       "      <td>200000</td>\n",
       "      <td>4</td>\n",
       "      <td>38.0</td>\n",
       "      <td>полностью</td>\n",
       "      <td>3</td>\n",
       "    </tr>\n",
       "    <tr>\n",
       "      <th>4230</th>\n",
       "      <td>675517453</td>\n",
       "      <td>Есильский</td>\n",
       "      <td>270000</td>\n",
       "      <td>2</td>\n",
       "      <td>73.0</td>\n",
       "      <td>полностью</td>\n",
       "      <td>3</td>\n",
       "    </tr>\n",
       "    <tr>\n",
       "      <th>4231</th>\n",
       "      <td>688269548</td>\n",
       "      <td>Есильский</td>\n",
       "      <td>400000</td>\n",
       "      <td>8</td>\n",
       "      <td>70.0</td>\n",
       "      <td>частично</td>\n",
       "      <td>3</td>\n",
       "    </tr>\n",
       "  </tbody>\n",
       "</table>\n",
       "<p>4232 rows × 7 columns</p>\n",
       "</div>"
      ],
      "text/plain": [
       "          index   location   price  floor  area is_furnished  rooms\n",
       "0     681098403     Алматы  280000      4  55.0    полностью      2\n",
       "1     688558724   Сарыарка  165000     10  60.0    полностью      2\n",
       "2     687779417  Есильский  200000     12  40.0    полностью      1\n",
       "3     681851810     Алматы  300000      9  55.0    полностью      2\n",
       "4     688418774   Сарыарка  180000      8  40.0    полностью      1\n",
       "...         ...        ...     ...    ...   ...          ...    ...\n",
       "4227  685451375     Алматы  250000     10  72.0     частично      4\n",
       "4228  681736449  Есильский  290000      7  69.0    полностью      5\n",
       "4229  682406566  Есильский  200000      4  38.0    полностью      3\n",
       "4230  675517453  Есильский  270000      2  73.0    полностью      3\n",
       "4231  688269548  Есильский  400000      8  70.0     частично      3\n",
       "\n",
       "[4232 rows x 7 columns]"
      ]
     },
     "execution_count": 133,
     "metadata": {},
     "output_type": "execute_result"
    }
   ],
   "source": [
    "df = pd.read_csv(\"astana.csv\")\n",
    "df"
   ]
  },
  {
   "cell_type": "code",
   "execution_count": 134,
   "metadata": {},
   "outputs": [
    {
     "name": "stdout",
     "output_type": "stream",
     "text": [
      "<class 'pandas.core.frame.DataFrame'>\n",
      "RangeIndex: 4232 entries, 0 to 4231\n",
      "Data columns (total 7 columns):\n",
      " #   Column        Non-Null Count  Dtype  \n",
      "---  ------        --------------  -----  \n",
      " 0   index         4232 non-null   int64  \n",
      " 1   location      4232 non-null   object \n",
      " 2   price         4232 non-null   int64  \n",
      " 3   floor         4232 non-null   int64  \n",
      " 4   area          4232 non-null   float64\n",
      " 5   is_furnished  4232 non-null   object \n",
      " 6   rooms         4232 non-null   int64  \n",
      "dtypes: float64(1), int64(4), object(2)\n",
      "memory usage: 231.6+ KB\n"
     ]
    }
   ],
   "source": [
    "df.info()"
   ]
  },
  {
   "cell_type": "code",
   "execution_count": 135,
   "metadata": {},
   "outputs": [],
   "source": [
    "numerical_features = [\"price\", \"floor\", \"area\", \"rooms\"]\n",
    "categorical_features = [\"location\", \"is_furnished\"]"
   ]
  },
  {
   "cell_type": "code",
   "execution_count": 136,
   "metadata": {},
   "outputs": [
    {
     "data": {
      "text/html": [
       "<div>\n",
       "<style scoped>\n",
       "    .dataframe tbody tr th:only-of-type {\n",
       "        vertical-align: middle;\n",
       "    }\n",
       "\n",
       "    .dataframe tbody tr th {\n",
       "        vertical-align: top;\n",
       "    }\n",
       "\n",
       "    .dataframe thead th {\n",
       "        text-align: right;\n",
       "    }\n",
       "</style>\n",
       "<table border=\"1\" class=\"dataframe\">\n",
       "  <thead>\n",
       "    <tr style=\"text-align: right;\">\n",
       "      <th></th>\n",
       "      <th>price</th>\n",
       "      <th>floor</th>\n",
       "      <th>area</th>\n",
       "      <th>rooms</th>\n",
       "    </tr>\n",
       "  </thead>\n",
       "  <tbody>\n",
       "    <tr>\n",
       "      <th>price</th>\n",
       "      <td>1.000000</td>\n",
       "      <td>0.216194</td>\n",
       "      <td>0.787738</td>\n",
       "      <td>0.062492</td>\n",
       "    </tr>\n",
       "    <tr>\n",
       "      <th>floor</th>\n",
       "      <td>0.216194</td>\n",
       "      <td>1.000000</td>\n",
       "      <td>0.214294</td>\n",
       "      <td>0.015775</td>\n",
       "    </tr>\n",
       "    <tr>\n",
       "      <th>area</th>\n",
       "      <td>0.787738</td>\n",
       "      <td>0.214294</td>\n",
       "      <td>1.000000</td>\n",
       "      <td>0.062954</td>\n",
       "    </tr>\n",
       "    <tr>\n",
       "      <th>rooms</th>\n",
       "      <td>0.062492</td>\n",
       "      <td>0.015775</td>\n",
       "      <td>0.062954</td>\n",
       "      <td>1.000000</td>\n",
       "    </tr>\n",
       "  </tbody>\n",
       "</table>\n",
       "</div>"
      ],
      "text/plain": [
       "          price     floor      area     rooms\n",
       "price  1.000000  0.216194  0.787738  0.062492\n",
       "floor  0.216194  1.000000  0.214294  0.015775\n",
       "area   0.787738  0.214294  1.000000  0.062954\n",
       "rooms  0.062492  0.015775  0.062954  1.000000"
      ]
     },
     "execution_count": 136,
     "metadata": {},
     "output_type": "execute_result"
    }
   ],
   "source": [
    "correlation_matrix = df[numerical_features].corr()\n",
    "correlation_matrix"
   ]
  },
  {
   "cell_type": "markdown",
   "metadata": {},
   "source": [
    "As we saw in EDA `area` has the highest correlation with `price`"
   ]
  },
  {
   "cell_type": "code",
   "execution_count": 137,
   "metadata": {},
   "outputs": [],
   "source": [
    "df_train = df.drop([\"price\"], axis=1)"
   ]
  },
  {
   "cell_type": "code",
   "execution_count": 138,
   "metadata": {},
   "outputs": [
    {
     "data": {
      "text/plain": [
       "0       280000\n",
       "1       165000\n",
       "2       200000\n",
       "3       300000\n",
       "4       180000\n",
       "         ...  \n",
       "4227    250000\n",
       "4228    290000\n",
       "4229    200000\n",
       "4230    270000\n",
       "4231    400000\n",
       "Name: price, Length: 4232, dtype: int64"
      ]
     },
     "execution_count": 138,
     "metadata": {},
     "output_type": "execute_result"
    }
   ],
   "source": [
    "# target = np.log1p(df.price)\n",
    "target = df.price\n",
    "target"
   ]
  },
  {
   "cell_type": "code",
   "execution_count": 139,
   "metadata": {},
   "outputs": [],
   "source": [
    "X_train_full, X_test, y_train_full, y_test = train_test_split(df_train, target, test_size=0.2, random_state=118)\n",
    "X_train, X_val, y_train, y_val = train_test_split(X_train_full, y_train_full, test_size=0.25, random_state=118)"
   ]
  },
  {
   "cell_type": "code",
   "execution_count": 140,
   "metadata": {},
   "outputs": [
    {
     "data": {
      "text/plain": [
       "((2538, 6), (847, 6), (847, 6))"
      ]
     },
     "execution_count": 140,
     "metadata": {},
     "output_type": "execute_result"
    }
   ],
   "source": [
    "X_train.shape, X_val.shape, X_test.shape"
   ]
  },
  {
   "cell_type": "code",
   "execution_count": 141,
   "metadata": {},
   "outputs": [],
   "source": [
    "dv = DictVectorizer(sparse=False)\n",
    "X_train_matrix = dv.fit_transform(X_train.to_dict(orient=\"records\"))\n",
    "X_val_matrix = dv.transform(X_val.to_dict(orient=\"records\"))"
   ]
  },
  {
   "cell_type": "code",
   "execution_count": 142,
   "metadata": {},
   "outputs": [
    {
     "data": {
      "text/plain": [
       "150524.09915459223"
      ]
     },
     "execution_count": 142,
     "metadata": {},
     "output_type": "execute_result"
    }
   ],
   "source": [
    "model = LinearRegression()\n",
    "model.fit(X_train_matrix, y_train)\n",
    "\n",
    "# Predicting on validation set\n",
    "y_val_pred = model.predict(X_val_matrix)\n",
    "\n",
    "# Calculating RMSE\n",
    "rmse = mean_squared_error(y_val, y_val_pred, squared=False)\n",
    "rmse"
   ]
  },
  {
   "cell_type": "code",
   "execution_count": 143,
   "metadata": {},
   "outputs": [
    {
     "data": {
      "text/plain": [
       "86034.0"
      ]
     },
     "execution_count": 143,
     "metadata": {},
     "output_type": "execute_result"
    }
   ],
   "source": [
    "sample_entity = {\n",
    "    \"location\": \"Есильский\",\n",
    "    \"floor\": 5,\n",
    "    \"area\": 42,\n",
    "    \"is_furnished\": \"полностью\",\n",
    "    \"rooms\": 2\n",
    "}\n",
    "X = dv.transform(sample_entity)\n",
    "round(model.predict(X)[0], 0)"
   ]
  },
  {
   "cell_type": "code",
   "execution_count": 144,
   "metadata": {},
   "outputs": [
    {
     "data": {
      "text/plain": [
       "{'location': 'Алматы',\n",
       " 'floor': 10,\n",
       " 'area': 70.0,\n",
       " 'is_furnished': 'частично',\n",
       " 'rooms': 3}"
      ]
     },
     "execution_count": 144,
     "metadata": {},
     "output_type": "execute_result"
    }
   ],
   "source": [
    "X_test.drop([\"index\"], axis=1).iloc[13].to_dict()"
   ]
  },
  {
   "cell_type": "code",
   "execution_count": 145,
   "metadata": {},
   "outputs": [
    {
     "data": {
      "text/plain": [
       "180000"
      ]
     },
     "execution_count": 145,
     "metadata": {},
     "output_type": "execute_result"
    }
   ],
   "source": [
    "y_test.iloc[13]"
   ]
  },
  {
   "cell_type": "code",
   "execution_count": 146,
   "metadata": {},
   "outputs": [
    {
     "data": {
      "text/plain": [
       "170979.0"
      ]
     },
     "execution_count": 146,
     "metadata": {},
     "output_type": "execute_result"
    }
   ],
   "source": [
    "X = dv.transform(X_test.drop([\"index\"], axis=1).iloc[13].to_dict())\n",
    "round(model.predict(X)[0], 0)"
   ]
  },
  {
   "cell_type": "markdown",
   "metadata": {},
   "source": [
    "Close enough!"
   ]
  },
  {
   "cell_type": "code",
   "execution_count": null,
   "metadata": {},
   "outputs": [],
   "source": []
  },
  {
   "cell_type": "code",
   "execution_count": 147,
   "metadata": {},
   "outputs": [],
   "source": [
    "# Use DictVectorizer(sparse=True) to turn the dataframes into matrices.\n",
    "dv = DictVectorizer(sparse=True)\n",
    "X_train_matrix = dv.fit_transform(X_train.to_dict(orient=\"records\"))\n",
    "X_val_matrix = dv.transform(X_val.to_dict(orient=\"records\"))"
   ]
  },
  {
   "cell_type": "code",
   "execution_count": 148,
   "metadata": {},
   "outputs": [],
   "source": [
    "dt = DecisionTreeRegressor(max_depth=1)"
   ]
  },
  {
   "cell_type": "code",
   "execution_count": 149,
   "metadata": {},
   "outputs": [
    {
     "data": {
      "text/html": [
       "<style>#sk-container-id-3 {color: black;}#sk-container-id-3 pre{padding: 0;}#sk-container-id-3 div.sk-toggleable {background-color: white;}#sk-container-id-3 label.sk-toggleable__label {cursor: pointer;display: block;width: 100%;margin-bottom: 0;padding: 0.3em;box-sizing: border-box;text-align: center;}#sk-container-id-3 label.sk-toggleable__label-arrow:before {content: \"▸\";float: left;margin-right: 0.25em;color: #696969;}#sk-container-id-3 label.sk-toggleable__label-arrow:hover:before {color: black;}#sk-container-id-3 div.sk-estimator:hover label.sk-toggleable__label-arrow:before {color: black;}#sk-container-id-3 div.sk-toggleable__content {max-height: 0;max-width: 0;overflow: hidden;text-align: left;background-color: #f0f8ff;}#sk-container-id-3 div.sk-toggleable__content pre {margin: 0.2em;color: black;border-radius: 0.25em;background-color: #f0f8ff;}#sk-container-id-3 input.sk-toggleable__control:checked~div.sk-toggleable__content {max-height: 200px;max-width: 100%;overflow: auto;}#sk-container-id-3 input.sk-toggleable__control:checked~label.sk-toggleable__label-arrow:before {content: \"▾\";}#sk-container-id-3 div.sk-estimator input.sk-toggleable__control:checked~label.sk-toggleable__label {background-color: #d4ebff;}#sk-container-id-3 div.sk-label input.sk-toggleable__control:checked~label.sk-toggleable__label {background-color: #d4ebff;}#sk-container-id-3 input.sk-hidden--visually {border: 0;clip: rect(1px 1px 1px 1px);clip: rect(1px, 1px, 1px, 1px);height: 1px;margin: -1px;overflow: hidden;padding: 0;position: absolute;width: 1px;}#sk-container-id-3 div.sk-estimator {font-family: monospace;background-color: #f0f8ff;border: 1px dotted black;border-radius: 0.25em;box-sizing: border-box;margin-bottom: 0.5em;}#sk-container-id-3 div.sk-estimator:hover {background-color: #d4ebff;}#sk-container-id-3 div.sk-parallel-item::after {content: \"\";width: 100%;border-bottom: 1px solid gray;flex-grow: 1;}#sk-container-id-3 div.sk-label:hover label.sk-toggleable__label {background-color: #d4ebff;}#sk-container-id-3 div.sk-serial::before {content: \"\";position: absolute;border-left: 1px solid gray;box-sizing: border-box;top: 0;bottom: 0;left: 50%;z-index: 0;}#sk-container-id-3 div.sk-serial {display: flex;flex-direction: column;align-items: center;background-color: white;padding-right: 0.2em;padding-left: 0.2em;position: relative;}#sk-container-id-3 div.sk-item {position: relative;z-index: 1;}#sk-container-id-3 div.sk-parallel {display: flex;align-items: stretch;justify-content: center;background-color: white;position: relative;}#sk-container-id-3 div.sk-item::before, #sk-container-id-3 div.sk-parallel-item::before {content: \"\";position: absolute;border-left: 1px solid gray;box-sizing: border-box;top: 0;bottom: 0;left: 50%;z-index: -1;}#sk-container-id-3 div.sk-parallel-item {display: flex;flex-direction: column;z-index: 1;position: relative;background-color: white;}#sk-container-id-3 div.sk-parallel-item:first-child::after {align-self: flex-end;width: 50%;}#sk-container-id-3 div.sk-parallel-item:last-child::after {align-self: flex-start;width: 50%;}#sk-container-id-3 div.sk-parallel-item:only-child::after {width: 0;}#sk-container-id-3 div.sk-dashed-wrapped {border: 1px dashed gray;margin: 0 0.4em 0.5em 0.4em;box-sizing: border-box;padding-bottom: 0.4em;background-color: white;}#sk-container-id-3 div.sk-label label {font-family: monospace;font-weight: bold;display: inline-block;line-height: 1.2em;}#sk-container-id-3 div.sk-label-container {text-align: center;}#sk-container-id-3 div.sk-container {/* jupyter's `normalize.less` sets `[hidden] { display: none; }` but bootstrap.min.css set `[hidden] { display: none !important; }` so we also need the `!important` here to be able to override the default hidden behavior on the sphinx rendered scikit-learn.org. See: https://github.com/scikit-learn/scikit-learn/issues/21755 */display: inline-block !important;position: relative;}#sk-container-id-3 div.sk-text-repr-fallback {display: none;}</style><div id=\"sk-container-id-3\" class=\"sk-top-container\"><div class=\"sk-text-repr-fallback\"><pre>DecisionTreeRegressor(max_depth=1)</pre><b>In a Jupyter environment, please rerun this cell to show the HTML representation or trust the notebook. <br />On GitHub, the HTML representation is unable to render, please try loading this page with nbviewer.org.</b></div><div class=\"sk-container\" hidden><div class=\"sk-item\"><div class=\"sk-estimator sk-toggleable\"><input class=\"sk-toggleable__control sk-hidden--visually\" id=\"sk-estimator-id-3\" type=\"checkbox\" checked><label for=\"sk-estimator-id-3\" class=\"sk-toggleable__label sk-toggleable__label-arrow\">DecisionTreeRegressor</label><div class=\"sk-toggleable__content\"><pre>DecisionTreeRegressor(max_depth=1)</pre></div></div></div></div></div>"
      ],
      "text/plain": [
       "DecisionTreeRegressor(max_depth=1)"
      ]
     },
     "execution_count": 149,
     "metadata": {},
     "output_type": "execute_result"
    }
   ],
   "source": [
    "dt.fit(X_train_matrix, y_train)"
   ]
  },
  {
   "cell_type": "code",
   "execution_count": 150,
   "metadata": {},
   "outputs": [
    {
     "data": {
      "text/plain": [
       "186748.30161706512"
      ]
     },
     "execution_count": 150,
     "metadata": {},
     "output_type": "execute_result"
    }
   ],
   "source": [
    "# Predicting on validation set\n",
    "y_val_pred = dt.predict(X_val_matrix)\n",
    "\n",
    "# Calculating RMSE\n",
    "rmse = mean_squared_error(y_val, y_val_pred, squared=False)\n",
    "rmse"
   ]
  },
  {
   "cell_type": "code",
   "execution_count": 151,
   "metadata": {},
   "outputs": [],
   "source": [
    "rf = RandomForestRegressor(n_estimators=10, random_state=1, n_jobs=-1)"
   ]
  },
  {
   "cell_type": "code",
   "execution_count": 152,
   "metadata": {},
   "outputs": [
    {
     "data": {
      "text/html": [
       "<style>#sk-container-id-4 {color: black;}#sk-container-id-4 pre{padding: 0;}#sk-container-id-4 div.sk-toggleable {background-color: white;}#sk-container-id-4 label.sk-toggleable__label {cursor: pointer;display: block;width: 100%;margin-bottom: 0;padding: 0.3em;box-sizing: border-box;text-align: center;}#sk-container-id-4 label.sk-toggleable__label-arrow:before {content: \"▸\";float: left;margin-right: 0.25em;color: #696969;}#sk-container-id-4 label.sk-toggleable__label-arrow:hover:before {color: black;}#sk-container-id-4 div.sk-estimator:hover label.sk-toggleable__label-arrow:before {color: black;}#sk-container-id-4 div.sk-toggleable__content {max-height: 0;max-width: 0;overflow: hidden;text-align: left;background-color: #f0f8ff;}#sk-container-id-4 div.sk-toggleable__content pre {margin: 0.2em;color: black;border-radius: 0.25em;background-color: #f0f8ff;}#sk-container-id-4 input.sk-toggleable__control:checked~div.sk-toggleable__content {max-height: 200px;max-width: 100%;overflow: auto;}#sk-container-id-4 input.sk-toggleable__control:checked~label.sk-toggleable__label-arrow:before {content: \"▾\";}#sk-container-id-4 div.sk-estimator input.sk-toggleable__control:checked~label.sk-toggleable__label {background-color: #d4ebff;}#sk-container-id-4 div.sk-label input.sk-toggleable__control:checked~label.sk-toggleable__label {background-color: #d4ebff;}#sk-container-id-4 input.sk-hidden--visually {border: 0;clip: rect(1px 1px 1px 1px);clip: rect(1px, 1px, 1px, 1px);height: 1px;margin: -1px;overflow: hidden;padding: 0;position: absolute;width: 1px;}#sk-container-id-4 div.sk-estimator {font-family: monospace;background-color: #f0f8ff;border: 1px dotted black;border-radius: 0.25em;box-sizing: border-box;margin-bottom: 0.5em;}#sk-container-id-4 div.sk-estimator:hover {background-color: #d4ebff;}#sk-container-id-4 div.sk-parallel-item::after {content: \"\";width: 100%;border-bottom: 1px solid gray;flex-grow: 1;}#sk-container-id-4 div.sk-label:hover label.sk-toggleable__label {background-color: #d4ebff;}#sk-container-id-4 div.sk-serial::before {content: \"\";position: absolute;border-left: 1px solid gray;box-sizing: border-box;top: 0;bottom: 0;left: 50%;z-index: 0;}#sk-container-id-4 div.sk-serial {display: flex;flex-direction: column;align-items: center;background-color: white;padding-right: 0.2em;padding-left: 0.2em;position: relative;}#sk-container-id-4 div.sk-item {position: relative;z-index: 1;}#sk-container-id-4 div.sk-parallel {display: flex;align-items: stretch;justify-content: center;background-color: white;position: relative;}#sk-container-id-4 div.sk-item::before, #sk-container-id-4 div.sk-parallel-item::before {content: \"\";position: absolute;border-left: 1px solid gray;box-sizing: border-box;top: 0;bottom: 0;left: 50%;z-index: -1;}#sk-container-id-4 div.sk-parallel-item {display: flex;flex-direction: column;z-index: 1;position: relative;background-color: white;}#sk-container-id-4 div.sk-parallel-item:first-child::after {align-self: flex-end;width: 50%;}#sk-container-id-4 div.sk-parallel-item:last-child::after {align-self: flex-start;width: 50%;}#sk-container-id-4 div.sk-parallel-item:only-child::after {width: 0;}#sk-container-id-4 div.sk-dashed-wrapped {border: 1px dashed gray;margin: 0 0.4em 0.5em 0.4em;box-sizing: border-box;padding-bottom: 0.4em;background-color: white;}#sk-container-id-4 div.sk-label label {font-family: monospace;font-weight: bold;display: inline-block;line-height: 1.2em;}#sk-container-id-4 div.sk-label-container {text-align: center;}#sk-container-id-4 div.sk-container {/* jupyter's `normalize.less` sets `[hidden] { display: none; }` but bootstrap.min.css set `[hidden] { display: none !important; }` so we also need the `!important` here to be able to override the default hidden behavior on the sphinx rendered scikit-learn.org. See: https://github.com/scikit-learn/scikit-learn/issues/21755 */display: inline-block !important;position: relative;}#sk-container-id-4 div.sk-text-repr-fallback {display: none;}</style><div id=\"sk-container-id-4\" class=\"sk-top-container\"><div class=\"sk-text-repr-fallback\"><pre>RandomForestRegressor(n_estimators=10, n_jobs=-1, random_state=1)</pre><b>In a Jupyter environment, please rerun this cell to show the HTML representation or trust the notebook. <br />On GitHub, the HTML representation is unable to render, please try loading this page with nbviewer.org.</b></div><div class=\"sk-container\" hidden><div class=\"sk-item\"><div class=\"sk-estimator sk-toggleable\"><input class=\"sk-toggleable__control sk-hidden--visually\" id=\"sk-estimator-id-4\" type=\"checkbox\" checked><label for=\"sk-estimator-id-4\" class=\"sk-toggleable__label sk-toggleable__label-arrow\">RandomForestRegressor</label><div class=\"sk-toggleable__content\"><pre>RandomForestRegressor(n_estimators=10, n_jobs=-1, random_state=1)</pre></div></div></div></div></div>"
      ],
      "text/plain": [
       "RandomForestRegressor(n_estimators=10, n_jobs=-1, random_state=1)"
      ]
     },
     "execution_count": 152,
     "metadata": {},
     "output_type": "execute_result"
    }
   ],
   "source": [
    "rf.fit(X_train_matrix, y_train)"
   ]
  },
  {
   "cell_type": "code",
   "execution_count": 153,
   "metadata": {},
   "outputs": [
    {
     "data": {
      "text/plain": [
       "173171.63473485326"
      ]
     },
     "execution_count": 153,
     "metadata": {},
     "output_type": "execute_result"
    }
   ],
   "source": [
    "preds = rf.predict(X_val_matrix)\n",
    "mean_squared_error(y_val, preds, squared=False)"
   ]
  },
  {
   "cell_type": "code",
   "execution_count": 154,
   "metadata": {},
   "outputs": [
    {
     "name": "stdout",
     "output_type": "stream",
     "text": [
      "max_depth= 10 rmse= 166616.13\n",
      "max_depth= 15 rmse= 165933.62\n",
      "max_depth= 20 rmse= 162918.62\n",
      "max_depth= 25 rmse= 165295.68\n",
      "max_depth= 30 rmse= 161251.11\n"
     ]
    }
   ],
   "source": [
    "for n in [10, 15, 20, 25, 30]:\n",
    "    score = []\n",
    "    for m in range(10, 200, 10):\n",
    "        rf = RandomForestRegressor(n_estimators=n, max_depth=n, random_state=118, n_jobs=-1)\n",
    "        rf.fit(X_train_matrix, y_train)\n",
    "        preds = rf.predict(X_val_matrix)\n",
    "        score.append(round(mean_squared_error(y_val, preds, squared=False), 3))\n",
    "    print(\"max_depth=\", n, \"rmse=\", round(np.mean(score), 2))"
   ]
  },
  {
   "cell_type": "code",
   "execution_count": 156,
   "metadata": {},
   "outputs": [],
   "source": [
    "import xgboost as xgb"
   ]
  },
  {
   "cell_type": "code",
   "execution_count": 157,
   "metadata": {},
   "outputs": [],
   "source": [
    "# Create DMatrix for train and validation\n",
    "dtrain = xgb.DMatrix(X_train_matrix, label=y_train)\n",
    "dval = xgb.DMatrix(X_val_matrix, label=y_val)"
   ]
  },
  {
   "cell_type": "code",
   "execution_count": 158,
   "metadata": {},
   "outputs": [],
   "source": [
    "# Create a watchlist\n",
    "watchlist = [(dtrain, \"train\"), (dval, \"dval\")]"
   ]
  },
  {
   "cell_type": "code",
   "execution_count": 159,
   "metadata": {},
   "outputs": [
    {
     "name": "stdout",
     "output_type": "stream",
     "text": [
      "[0]\ttrain-rmse:262602.38241\tdval-rmse:192639.73040\n",
      "[1]\ttrain-rmse:216768.42386\tdval-rmse:163967.21942\n",
      "[2]\ttrain-rmse:185465.09681\tdval-rmse:152173.98157\n",
      "[3]\ttrain-rmse:161903.72084\tdval-rmse:146478.57950\n",
      "[4]\ttrain-rmse:144945.66960\tdval-rmse:145040.57078\n",
      "[5]\ttrain-rmse:133432.80493\tdval-rmse:142631.40434\n",
      "[6]\ttrain-rmse:124955.20689\tdval-rmse:142742.72435\n",
      "[7]\ttrain-rmse:117094.86784\tdval-rmse:143139.60265\n",
      "[8]\ttrain-rmse:111271.96293\tdval-rmse:143436.37667\n",
      "[9]\ttrain-rmse:107159.95618\tdval-rmse:143436.27979\n",
      "[10]\ttrain-rmse:103730.12260\tdval-rmse:143244.05038\n",
      "[11]\ttrain-rmse:100260.33671\tdval-rmse:144305.99469\n",
      "[12]\ttrain-rmse:96004.90869\tdval-rmse:146443.03492\n",
      "[13]\ttrain-rmse:94638.54342\tdval-rmse:146368.02116\n",
      "[14]\ttrain-rmse:93607.54529\tdval-rmse:146005.58594\n",
      "[15]\ttrain-rmse:92316.13008\tdval-rmse:146073.87473\n",
      "[16]\ttrain-rmse:91151.53268\tdval-rmse:146809.53505\n",
      "[17]\ttrain-rmse:88249.04831\tdval-rmse:146836.03795\n",
      "[18]\ttrain-rmse:87547.80788\tdval-rmse:146017.33405\n",
      "[19]\ttrain-rmse:86519.44839\tdval-rmse:145785.12651\n",
      "[20]\ttrain-rmse:85936.87064\tdval-rmse:146081.35853\n",
      "[21]\ttrain-rmse:83282.49679\tdval-rmse:146633.93495\n",
      "[22]\ttrain-rmse:82393.83371\tdval-rmse:146417.57465\n",
      "[23]\ttrain-rmse:82140.56291\tdval-rmse:146463.77357\n",
      "[24]\ttrain-rmse:80321.06391\tdval-rmse:147532.91737\n",
      "[25]\ttrain-rmse:80065.98310\tdval-rmse:147795.59813\n",
      "[26]\ttrain-rmse:77442.12142\tdval-rmse:147715.70779\n",
      "[27]\ttrain-rmse:76506.56518\tdval-rmse:148824.70033\n",
      "[28]\ttrain-rmse:76297.21147\tdval-rmse:148989.91011\n",
      "[29]\ttrain-rmse:75625.90181\tdval-rmse:149288.25483\n",
      "[30]\ttrain-rmse:75061.56724\tdval-rmse:149179.73022\n",
      "[31]\ttrain-rmse:71999.51843\tdval-rmse:150308.81973\n",
      "[32]\ttrain-rmse:71336.19436\tdval-rmse:150608.89174\n",
      "[33]\ttrain-rmse:71118.77070\tdval-rmse:150703.66340\n",
      "[34]\ttrain-rmse:70568.12987\tdval-rmse:151073.98907\n",
      "[35]\ttrain-rmse:68862.67874\tdval-rmse:151541.34834\n",
      "[36]\ttrain-rmse:68194.43767\tdval-rmse:151434.52373\n",
      "[37]\ttrain-rmse:66851.03576\tdval-rmse:152351.81767\n",
      "[38]\ttrain-rmse:65718.04961\tdval-rmse:153442.56483\n",
      "[39]\ttrain-rmse:65105.97524\tdval-rmse:153237.65254\n",
      "[40]\ttrain-rmse:64046.41125\tdval-rmse:153301.07561\n",
      "[41]\ttrain-rmse:62756.60932\tdval-rmse:153985.52302\n",
      "[42]\ttrain-rmse:62230.64781\tdval-rmse:153770.89827\n",
      "[43]\ttrain-rmse:61534.31049\tdval-rmse:153767.35398\n",
      "[44]\ttrain-rmse:60966.52914\tdval-rmse:153604.34303\n",
      "[45]\ttrain-rmse:60477.24508\tdval-rmse:153739.57433\n",
      "[46]\ttrain-rmse:60359.84597\tdval-rmse:153923.62546\n",
      "[47]\ttrain-rmse:59895.28959\tdval-rmse:153920.20102\n",
      "[48]\ttrain-rmse:58938.25872\tdval-rmse:153719.05651\n",
      "[49]\ttrain-rmse:58321.13895\tdval-rmse:153782.12676\n",
      "[50]\ttrain-rmse:58163.82934\tdval-rmse:153801.11973\n",
      "[51]\ttrain-rmse:57953.46561\tdval-rmse:154161.41810\n",
      "[52]\ttrain-rmse:57439.73928\tdval-rmse:154366.44065\n",
      "[53]\ttrain-rmse:56672.36675\tdval-rmse:154773.15054\n",
      "[54]\ttrain-rmse:56380.65364\tdval-rmse:155328.02117\n",
      "[55]\ttrain-rmse:56200.79209\tdval-rmse:155355.12313\n",
      "[56]\ttrain-rmse:55524.40284\tdval-rmse:155771.04432\n",
      "[57]\ttrain-rmse:55004.06290\tdval-rmse:155873.77737\n",
      "[58]\ttrain-rmse:54262.25364\tdval-rmse:156792.05007\n",
      "[59]\ttrain-rmse:53962.44831\tdval-rmse:156883.05912\n",
      "[60]\ttrain-rmse:53243.81628\tdval-rmse:157578.68659\n",
      "[61]\ttrain-rmse:53137.32973\tdval-rmse:157534.50483\n",
      "[62]\ttrain-rmse:53016.95082\tdval-rmse:157543.17008\n",
      "[63]\ttrain-rmse:52366.66948\tdval-rmse:157545.53572\n",
      "[64]\ttrain-rmse:52105.01381\tdval-rmse:157617.55290\n",
      "[65]\ttrain-rmse:51932.56569\tdval-rmse:157514.27874\n",
      "[66]\ttrain-rmse:51007.01750\tdval-rmse:157525.54248\n",
      "[67]\ttrain-rmse:50855.31184\tdval-rmse:157852.98475\n",
      "[68]\ttrain-rmse:50310.10735\tdval-rmse:157767.77209\n",
      "[69]\ttrain-rmse:49878.61006\tdval-rmse:157816.41316\n",
      "[70]\ttrain-rmse:49449.90320\tdval-rmse:157769.27472\n",
      "[71]\ttrain-rmse:48811.01808\tdval-rmse:158021.18159\n",
      "[72]\ttrain-rmse:48408.34031\tdval-rmse:158263.71848\n",
      "[73]\ttrain-rmse:48025.99402\tdval-rmse:158398.83731\n",
      "[74]\ttrain-rmse:47697.17240\tdval-rmse:158529.45648\n",
      "[75]\ttrain-rmse:47385.75252\tdval-rmse:158669.78271\n",
      "[76]\ttrain-rmse:46933.94217\tdval-rmse:158683.04352\n",
      "[77]\ttrain-rmse:46681.80736\tdval-rmse:158716.51434\n",
      "[78]\ttrain-rmse:45327.85938\tdval-rmse:158558.46974\n",
      "[79]\ttrain-rmse:44540.47856\tdval-rmse:158671.47056\n",
      "[80]\ttrain-rmse:44300.67492\tdval-rmse:158715.28228\n",
      "[81]\ttrain-rmse:43891.08106\tdval-rmse:158712.10554\n",
      "[82]\ttrain-rmse:43181.96495\tdval-rmse:158662.86403\n",
      "[83]\ttrain-rmse:42588.86856\tdval-rmse:158804.88140\n",
      "[84]\ttrain-rmse:42138.55527\tdval-rmse:158682.53475\n",
      "[85]\ttrain-rmse:41728.77961\tdval-rmse:158881.57513\n",
      "[86]\ttrain-rmse:41252.27746\tdval-rmse:158853.91894\n",
      "[87]\ttrain-rmse:41133.14245\tdval-rmse:158912.99600\n",
      "[88]\ttrain-rmse:40470.96010\tdval-rmse:158912.07013\n",
      "[89]\ttrain-rmse:40321.61388\tdval-rmse:158921.29855\n",
      "[90]\ttrain-rmse:39915.92286\tdval-rmse:158860.91680\n",
      "[91]\ttrain-rmse:39435.90032\tdval-rmse:158972.39992\n",
      "[92]\ttrain-rmse:39002.78067\tdval-rmse:159486.68796\n",
      "[93]\ttrain-rmse:38707.34769\tdval-rmse:159490.44174\n",
      "[94]\ttrain-rmse:38440.45000\tdval-rmse:159481.27613\n",
      "[95]\ttrain-rmse:38311.21935\tdval-rmse:159495.82541\n",
      "[96]\ttrain-rmse:37959.08052\tdval-rmse:159529.58146\n",
      "[97]\ttrain-rmse:37665.24253\tdval-rmse:159785.40095\n",
      "[98]\ttrain-rmse:37519.86188\tdval-rmse:159782.23076\n",
      "[99]\ttrain-rmse:37392.67088\tdval-rmse:159975.45338\n"
     ]
    }
   ],
   "source": [
    "# Train a model with these parameters for 100 rounds:\n",
    "xgb_params = {\n",
    "    'eta': 0.3, \n",
    "    'max_depth': 6,\n",
    "    'min_child_weight': 1,\n",
    "\n",
    "    'objective': 'reg:squarederror',\n",
    "    'nthread': 8,\n",
    "\n",
    "    'seed': 1,\n",
    "    'verbosity': 1,\n",
    "}\n",
    "\n",
    "model = xgb.train(xgb_params, dtrain, num_boost_round=100, evals=watchlist)"
   ]
  }
 ],
 "metadata": {
  "kernelspec": {
   "display_name": "Python 3",
   "language": "python",
   "name": "python3"
  },
  "language_info": {
   "codemirror_mode": {
    "name": "ipython",
    "version": 3
   },
   "file_extension": ".py",
   "mimetype": "text/x-python",
   "name": "python",
   "nbconvert_exporter": "python",
   "pygments_lexer": "ipython3",
   "version": "3.10.12"
  }
 },
 "nbformat": 4,
 "nbformat_minor": 2
}

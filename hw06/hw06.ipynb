{
 "cells": [
  {
   "cell_type": "code",
   "execution_count": 1,
   "metadata": {},
   "outputs": [],
   "source": [
    "import numpy as np\n",
    "import pandas as pd\n",
    "import xgboost as xgb\n",
    "from matplotlib import pyplot as plt\n",
    "from sklearn.ensemble import RandomForestRegressor\n",
    "from sklearn.feature_extraction import DictVectorizer\n",
    "from sklearn.metrics import mean_squared_error\n",
    "from sklearn.model_selection import train_test_split\n",
    "from sklearn.tree import DecisionTreeRegressor, plot_tree\n"
   ]
  },
  {
   "cell_type": "markdown",
   "metadata": {},
   "source": [
    "### Preparing the dataset"
   ]
  },
  {
   "cell_type": "code",
   "execution_count": 2,
   "metadata": {},
   "outputs": [
    {
     "name": "stdout",
     "output_type": "stream",
     "text": [
      "--2023-10-21 08:33:44--  https://raw.githubusercontent.com/alexeygrigorev/datasets/master/housing.csv\n",
      "Resolving raw.githubusercontent.com (raw.githubusercontent.com)... 185.199.111.133, 185.199.108.133, 185.199.110.133, ...\n",
      "Connecting to raw.githubusercontent.com (raw.githubusercontent.com)|185.199.111.133|:443... connected.\n",
      "HTTP request sent, awaiting response... 200 OK\n",
      "Length: 1423529 (1,4M) [text/plain]\n",
      "Saving to: ‘housing.csv.2’\n",
      "\n",
      "housing.csv.2       100%[===================>]   1,36M  2,96MB/s    in 0,5s    \n",
      "\n",
      "2023-10-21 08:33:45 (2,96 MB/s) - ‘housing.csv.2’ saved [1423529/1423529]\n",
      "\n"
     ]
    }
   ],
   "source": [
    "!wget https://raw.githubusercontent.com/alexeygrigorev/datasets/master/housing.csv"
   ]
  },
  {
   "cell_type": "code",
   "execution_count": 3,
   "metadata": {},
   "outputs": [
    {
     "data": {
      "text/html": [
       "<div>\n",
       "<style scoped>\n",
       "    .dataframe tbody tr th:only-of-type {\n",
       "        vertical-align: middle;\n",
       "    }\n",
       "\n",
       "    .dataframe tbody tr th {\n",
       "        vertical-align: top;\n",
       "    }\n",
       "\n",
       "    .dataframe thead th {\n",
       "        text-align: right;\n",
       "    }\n",
       "</style>\n",
       "<table border=\"1\" class=\"dataframe\">\n",
       "  <thead>\n",
       "    <tr style=\"text-align: right;\">\n",
       "      <th></th>\n",
       "      <th>longitude</th>\n",
       "      <th>latitude</th>\n",
       "      <th>housing_median_age</th>\n",
       "      <th>total_rooms</th>\n",
       "      <th>total_bedrooms</th>\n",
       "      <th>population</th>\n",
       "      <th>households</th>\n",
       "      <th>median_income</th>\n",
       "      <th>median_house_value</th>\n",
       "      <th>ocean_proximity</th>\n",
       "    </tr>\n",
       "  </thead>\n",
       "  <tbody>\n",
       "    <tr>\n",
       "      <th>0</th>\n",
       "      <td>-122.23</td>\n",
       "      <td>37.88</td>\n",
       "      <td>41.0</td>\n",
       "      <td>880.0</td>\n",
       "      <td>129.0</td>\n",
       "      <td>322.0</td>\n",
       "      <td>126.0</td>\n",
       "      <td>8.3252</td>\n",
       "      <td>452600.0</td>\n",
       "      <td>NEAR BAY</td>\n",
       "    </tr>\n",
       "    <tr>\n",
       "      <th>1</th>\n",
       "      <td>-122.22</td>\n",
       "      <td>37.86</td>\n",
       "      <td>21.0</td>\n",
       "      <td>7099.0</td>\n",
       "      <td>1106.0</td>\n",
       "      <td>2401.0</td>\n",
       "      <td>1138.0</td>\n",
       "      <td>8.3014</td>\n",
       "      <td>358500.0</td>\n",
       "      <td>NEAR BAY</td>\n",
       "    </tr>\n",
       "    <tr>\n",
       "      <th>2</th>\n",
       "      <td>-122.24</td>\n",
       "      <td>37.85</td>\n",
       "      <td>52.0</td>\n",
       "      <td>1467.0</td>\n",
       "      <td>190.0</td>\n",
       "      <td>496.0</td>\n",
       "      <td>177.0</td>\n",
       "      <td>7.2574</td>\n",
       "      <td>352100.0</td>\n",
       "      <td>NEAR BAY</td>\n",
       "    </tr>\n",
       "    <tr>\n",
       "      <th>3</th>\n",
       "      <td>-122.25</td>\n",
       "      <td>37.85</td>\n",
       "      <td>52.0</td>\n",
       "      <td>1274.0</td>\n",
       "      <td>235.0</td>\n",
       "      <td>558.0</td>\n",
       "      <td>219.0</td>\n",
       "      <td>5.6431</td>\n",
       "      <td>341300.0</td>\n",
       "      <td>NEAR BAY</td>\n",
       "    </tr>\n",
       "    <tr>\n",
       "      <th>4</th>\n",
       "      <td>-122.25</td>\n",
       "      <td>37.85</td>\n",
       "      <td>52.0</td>\n",
       "      <td>1627.0</td>\n",
       "      <td>280.0</td>\n",
       "      <td>565.0</td>\n",
       "      <td>259.0</td>\n",
       "      <td>3.8462</td>\n",
       "      <td>342200.0</td>\n",
       "      <td>NEAR BAY</td>\n",
       "    </tr>\n",
       "    <tr>\n",
       "      <th>...</th>\n",
       "      <td>...</td>\n",
       "      <td>...</td>\n",
       "      <td>...</td>\n",
       "      <td>...</td>\n",
       "      <td>...</td>\n",
       "      <td>...</td>\n",
       "      <td>...</td>\n",
       "      <td>...</td>\n",
       "      <td>...</td>\n",
       "      <td>...</td>\n",
       "    </tr>\n",
       "    <tr>\n",
       "      <th>20635</th>\n",
       "      <td>-121.09</td>\n",
       "      <td>39.48</td>\n",
       "      <td>25.0</td>\n",
       "      <td>1665.0</td>\n",
       "      <td>374.0</td>\n",
       "      <td>845.0</td>\n",
       "      <td>330.0</td>\n",
       "      <td>1.5603</td>\n",
       "      <td>78100.0</td>\n",
       "      <td>INLAND</td>\n",
       "    </tr>\n",
       "    <tr>\n",
       "      <th>20636</th>\n",
       "      <td>-121.21</td>\n",
       "      <td>39.49</td>\n",
       "      <td>18.0</td>\n",
       "      <td>697.0</td>\n",
       "      <td>150.0</td>\n",
       "      <td>356.0</td>\n",
       "      <td>114.0</td>\n",
       "      <td>2.5568</td>\n",
       "      <td>77100.0</td>\n",
       "      <td>INLAND</td>\n",
       "    </tr>\n",
       "    <tr>\n",
       "      <th>20637</th>\n",
       "      <td>-121.22</td>\n",
       "      <td>39.43</td>\n",
       "      <td>17.0</td>\n",
       "      <td>2254.0</td>\n",
       "      <td>485.0</td>\n",
       "      <td>1007.0</td>\n",
       "      <td>433.0</td>\n",
       "      <td>1.7000</td>\n",
       "      <td>92300.0</td>\n",
       "      <td>INLAND</td>\n",
       "    </tr>\n",
       "    <tr>\n",
       "      <th>20638</th>\n",
       "      <td>-121.32</td>\n",
       "      <td>39.43</td>\n",
       "      <td>18.0</td>\n",
       "      <td>1860.0</td>\n",
       "      <td>409.0</td>\n",
       "      <td>741.0</td>\n",
       "      <td>349.0</td>\n",
       "      <td>1.8672</td>\n",
       "      <td>84700.0</td>\n",
       "      <td>INLAND</td>\n",
       "    </tr>\n",
       "    <tr>\n",
       "      <th>20639</th>\n",
       "      <td>-121.24</td>\n",
       "      <td>39.37</td>\n",
       "      <td>16.0</td>\n",
       "      <td>2785.0</td>\n",
       "      <td>616.0</td>\n",
       "      <td>1387.0</td>\n",
       "      <td>530.0</td>\n",
       "      <td>2.3886</td>\n",
       "      <td>89400.0</td>\n",
       "      <td>INLAND</td>\n",
       "    </tr>\n",
       "  </tbody>\n",
       "</table>\n",
       "<p>20640 rows × 10 columns</p>\n",
       "</div>"
      ],
      "text/plain": [
       "       longitude  latitude  housing_median_age  total_rooms  total_bedrooms  \\\n",
       "0        -122.23     37.88                41.0        880.0           129.0   \n",
       "1        -122.22     37.86                21.0       7099.0          1106.0   \n",
       "2        -122.24     37.85                52.0       1467.0           190.0   \n",
       "3        -122.25     37.85                52.0       1274.0           235.0   \n",
       "4        -122.25     37.85                52.0       1627.0           280.0   \n",
       "...          ...       ...                 ...          ...             ...   \n",
       "20635    -121.09     39.48                25.0       1665.0           374.0   \n",
       "20636    -121.21     39.49                18.0        697.0           150.0   \n",
       "20637    -121.22     39.43                17.0       2254.0           485.0   \n",
       "20638    -121.32     39.43                18.0       1860.0           409.0   \n",
       "20639    -121.24     39.37                16.0       2785.0           616.0   \n",
       "\n",
       "       population  households  median_income  median_house_value  \\\n",
       "0           322.0       126.0         8.3252            452600.0   \n",
       "1          2401.0      1138.0         8.3014            358500.0   \n",
       "2           496.0       177.0         7.2574            352100.0   \n",
       "3           558.0       219.0         5.6431            341300.0   \n",
       "4           565.0       259.0         3.8462            342200.0   \n",
       "...           ...         ...            ...                 ...   \n",
       "20635       845.0       330.0         1.5603             78100.0   \n",
       "20636       356.0       114.0         2.5568             77100.0   \n",
       "20637      1007.0       433.0         1.7000             92300.0   \n",
       "20638       741.0       349.0         1.8672             84700.0   \n",
       "20639      1387.0       530.0         2.3886             89400.0   \n",
       "\n",
       "      ocean_proximity  \n",
       "0            NEAR BAY  \n",
       "1            NEAR BAY  \n",
       "2            NEAR BAY  \n",
       "3            NEAR BAY  \n",
       "4            NEAR BAY  \n",
       "...               ...  \n",
       "20635          INLAND  \n",
       "20636          INLAND  \n",
       "20637          INLAND  \n",
       "20638          INLAND  \n",
       "20639          INLAND  \n",
       "\n",
       "[20640 rows x 10 columns]"
      ]
     },
     "execution_count": 3,
     "metadata": {},
     "output_type": "execute_result"
    }
   ],
   "source": [
    "df = pd.read_csv(\"housing.csv\")\n",
    "df"
   ]
  },
  {
   "cell_type": "code",
   "execution_count": 4,
   "metadata": {},
   "outputs": [
    {
     "data": {
      "text/html": [
       "<div>\n",
       "<style scoped>\n",
       "    .dataframe tbody tr th:only-of-type {\n",
       "        vertical-align: middle;\n",
       "    }\n",
       "\n",
       "    .dataframe tbody tr th {\n",
       "        vertical-align: top;\n",
       "    }\n",
       "\n",
       "    .dataframe thead th {\n",
       "        text-align: right;\n",
       "    }\n",
       "</style>\n",
       "<table border=\"1\" class=\"dataframe\">\n",
       "  <thead>\n",
       "    <tr style=\"text-align: right;\">\n",
       "      <th></th>\n",
       "      <th>longitude</th>\n",
       "      <th>latitude</th>\n",
       "      <th>housing_median_age</th>\n",
       "      <th>total_rooms</th>\n",
       "      <th>total_bedrooms</th>\n",
       "      <th>population</th>\n",
       "      <th>households</th>\n",
       "      <th>median_income</th>\n",
       "      <th>median_house_value</th>\n",
       "      <th>ocean_proximity</th>\n",
       "    </tr>\n",
       "  </thead>\n",
       "  <tbody>\n",
       "    <tr>\n",
       "      <th>701</th>\n",
       "      <td>-121.97</td>\n",
       "      <td>37.64</td>\n",
       "      <td>32.0</td>\n",
       "      <td>1283.0</td>\n",
       "      <td>194.0</td>\n",
       "      <td>485.0</td>\n",
       "      <td>171.0</td>\n",
       "      <td>6.0574</td>\n",
       "      <td>431000.0</td>\n",
       "      <td>&lt;1H OCEAN</td>\n",
       "    </tr>\n",
       "    <tr>\n",
       "      <th>830</th>\n",
       "      <td>-121.99</td>\n",
       "      <td>37.61</td>\n",
       "      <td>9.0</td>\n",
       "      <td>3666.0</td>\n",
       "      <td>711.0</td>\n",
       "      <td>2341.0</td>\n",
       "      <td>703.0</td>\n",
       "      <td>4.6458</td>\n",
       "      <td>217000.0</td>\n",
       "      <td>&lt;1H OCEAN</td>\n",
       "    </tr>\n",
       "    <tr>\n",
       "      <th>859</th>\n",
       "      <td>-121.97</td>\n",
       "      <td>37.57</td>\n",
       "      <td>21.0</td>\n",
       "      <td>4342.0</td>\n",
       "      <td>783.0</td>\n",
       "      <td>2172.0</td>\n",
       "      <td>789.0</td>\n",
       "      <td>4.6146</td>\n",
       "      <td>247600.0</td>\n",
       "      <td>&lt;1H OCEAN</td>\n",
       "    </tr>\n",
       "    <tr>\n",
       "      <th>860</th>\n",
       "      <td>-121.96</td>\n",
       "      <td>37.58</td>\n",
       "      <td>15.0</td>\n",
       "      <td>3575.0</td>\n",
       "      <td>597.0</td>\n",
       "      <td>1777.0</td>\n",
       "      <td>559.0</td>\n",
       "      <td>5.7192</td>\n",
       "      <td>283500.0</td>\n",
       "      <td>&lt;1H OCEAN</td>\n",
       "    </tr>\n",
       "    <tr>\n",
       "      <th>861</th>\n",
       "      <td>-121.98</td>\n",
       "      <td>37.58</td>\n",
       "      <td>20.0</td>\n",
       "      <td>4126.0</td>\n",
       "      <td>1031.0</td>\n",
       "      <td>2079.0</td>\n",
       "      <td>975.0</td>\n",
       "      <td>3.6832</td>\n",
       "      <td>216900.0</td>\n",
       "      <td>&lt;1H OCEAN</td>\n",
       "    </tr>\n",
       "    <tr>\n",
       "      <th>...</th>\n",
       "      <td>...</td>\n",
       "      <td>...</td>\n",
       "      <td>...</td>\n",
       "      <td>...</td>\n",
       "      <td>...</td>\n",
       "      <td>...</td>\n",
       "      <td>...</td>\n",
       "      <td>...</td>\n",
       "      <td>...</td>\n",
       "      <td>...</td>\n",
       "    </tr>\n",
       "    <tr>\n",
       "      <th>20635</th>\n",
       "      <td>-121.09</td>\n",
       "      <td>39.48</td>\n",
       "      <td>25.0</td>\n",
       "      <td>1665.0</td>\n",
       "      <td>374.0</td>\n",
       "      <td>845.0</td>\n",
       "      <td>330.0</td>\n",
       "      <td>1.5603</td>\n",
       "      <td>78100.0</td>\n",
       "      <td>INLAND</td>\n",
       "    </tr>\n",
       "    <tr>\n",
       "      <th>20636</th>\n",
       "      <td>-121.21</td>\n",
       "      <td>39.49</td>\n",
       "      <td>18.0</td>\n",
       "      <td>697.0</td>\n",
       "      <td>150.0</td>\n",
       "      <td>356.0</td>\n",
       "      <td>114.0</td>\n",
       "      <td>2.5568</td>\n",
       "      <td>77100.0</td>\n",
       "      <td>INLAND</td>\n",
       "    </tr>\n",
       "    <tr>\n",
       "      <th>20637</th>\n",
       "      <td>-121.22</td>\n",
       "      <td>39.43</td>\n",
       "      <td>17.0</td>\n",
       "      <td>2254.0</td>\n",
       "      <td>485.0</td>\n",
       "      <td>1007.0</td>\n",
       "      <td>433.0</td>\n",
       "      <td>1.7000</td>\n",
       "      <td>92300.0</td>\n",
       "      <td>INLAND</td>\n",
       "    </tr>\n",
       "    <tr>\n",
       "      <th>20638</th>\n",
       "      <td>-121.32</td>\n",
       "      <td>39.43</td>\n",
       "      <td>18.0</td>\n",
       "      <td>1860.0</td>\n",
       "      <td>409.0</td>\n",
       "      <td>741.0</td>\n",
       "      <td>349.0</td>\n",
       "      <td>1.8672</td>\n",
       "      <td>84700.0</td>\n",
       "      <td>INLAND</td>\n",
       "    </tr>\n",
       "    <tr>\n",
       "      <th>20639</th>\n",
       "      <td>-121.24</td>\n",
       "      <td>39.37</td>\n",
       "      <td>16.0</td>\n",
       "      <td>2785.0</td>\n",
       "      <td>616.0</td>\n",
       "      <td>1387.0</td>\n",
       "      <td>530.0</td>\n",
       "      <td>2.3886</td>\n",
       "      <td>89400.0</td>\n",
       "      <td>INLAND</td>\n",
       "    </tr>\n",
       "  </tbody>\n",
       "</table>\n",
       "<p>15687 rows × 10 columns</p>\n",
       "</div>"
      ],
      "text/plain": [
       "       longitude  latitude  housing_median_age  total_rooms  total_bedrooms  \\\n",
       "701      -121.97     37.64                32.0       1283.0           194.0   \n",
       "830      -121.99     37.61                 9.0       3666.0           711.0   \n",
       "859      -121.97     37.57                21.0       4342.0           783.0   \n",
       "860      -121.96     37.58                15.0       3575.0           597.0   \n",
       "861      -121.98     37.58                20.0       4126.0          1031.0   \n",
       "...          ...       ...                 ...          ...             ...   \n",
       "20635    -121.09     39.48                25.0       1665.0           374.0   \n",
       "20636    -121.21     39.49                18.0        697.0           150.0   \n",
       "20637    -121.22     39.43                17.0       2254.0           485.0   \n",
       "20638    -121.32     39.43                18.0       1860.0           409.0   \n",
       "20639    -121.24     39.37                16.0       2785.0           616.0   \n",
       "\n",
       "       population  households  median_income  median_house_value  \\\n",
       "701         485.0       171.0         6.0574            431000.0   \n",
       "830        2341.0       703.0         4.6458            217000.0   \n",
       "859        2172.0       789.0         4.6146            247600.0   \n",
       "860        1777.0       559.0         5.7192            283500.0   \n",
       "861        2079.0       975.0         3.6832            216900.0   \n",
       "...           ...         ...            ...                 ...   \n",
       "20635       845.0       330.0         1.5603             78100.0   \n",
       "20636       356.0       114.0         2.5568             77100.0   \n",
       "20637      1007.0       433.0         1.7000             92300.0   \n",
       "20638       741.0       349.0         1.8672             84700.0   \n",
       "20639      1387.0       530.0         2.3886             89400.0   \n",
       "\n",
       "      ocean_proximity  \n",
       "701         <1H OCEAN  \n",
       "830         <1H OCEAN  \n",
       "859         <1H OCEAN  \n",
       "860         <1H OCEAN  \n",
       "861         <1H OCEAN  \n",
       "...               ...  \n",
       "20635          INLAND  \n",
       "20636          INLAND  \n",
       "20637          INLAND  \n",
       "20638          INLAND  \n",
       "20639          INLAND  \n",
       "\n",
       "[15687 rows x 10 columns]"
      ]
     },
     "execution_count": 4,
     "metadata": {},
     "output_type": "execute_result"
    }
   ],
   "source": [
    "# First, keep only the records where ocean_proximity is either '<1H OCEAN' or 'INLAND'\n",
    "df = df[df['ocean_proximity'].isin(['<1H OCEAN', 'INLAND'])]\n",
    "df"
   ]
  },
  {
   "cell_type": "code",
   "execution_count": 5,
   "metadata": {},
   "outputs": [
    {
     "data": {
      "text/plain": [
       "longitude               0\n",
       "latitude                0\n",
       "housing_median_age      0\n",
       "total_rooms             0\n",
       "total_bedrooms        157\n",
       "population              0\n",
       "households              0\n",
       "median_income           0\n",
       "median_house_value      0\n",
       "ocean_proximity         0\n",
       "dtype: int64"
      ]
     },
     "execution_count": 5,
     "metadata": {},
     "output_type": "execute_result"
    }
   ],
   "source": [
    "# Preparation:\n",
    "\n",
    "# Fill missing values with zeros.\n",
    "df.isnull().sum()"
   ]
  },
  {
   "cell_type": "code",
   "execution_count": 6,
   "metadata": {},
   "outputs": [
    {
     "data": {
      "text/plain": [
       "longitude             0\n",
       "latitude              0\n",
       "housing_median_age    0\n",
       "total_rooms           0\n",
       "total_bedrooms        0\n",
       "population            0\n",
       "households            0\n",
       "median_income         0\n",
       "median_house_value    0\n",
       "ocean_proximity       0\n",
       "dtype: int64"
      ]
     },
     "execution_count": 6,
     "metadata": {},
     "output_type": "execute_result"
    }
   ],
   "source": [
    "\n",
    "df = df.fillna(0)\n",
    "df.isnull().sum()"
   ]
  },
  {
   "cell_type": "code",
   "execution_count": 7,
   "metadata": {},
   "outputs": [],
   "source": [
    "# Apply the log transform to median_house_value.\n",
    "df.median_house_value = df.median_house_value.apply(np.log1p)"
   ]
  },
  {
   "cell_type": "code",
   "execution_count": 8,
   "metadata": {},
   "outputs": [],
   "source": [
    "target = df[\"median_house_value\"]\n",
    "df_train = df.drop([\"median_house_value\"], axis=1)"
   ]
  },
  {
   "cell_type": "code",
   "execution_count": 9,
   "metadata": {},
   "outputs": [],
   "source": [
    "# Do train/validation/test split with 60%/20%/20% distribution.\n",
    "# Use the train_test_split function and set the random_state parameter to 1.\n",
    "X_train_full, X_test, y_train_full, y_test = train_test_split(df_train, target, test_size=0.2, random_state=1)\n",
    "X_train, X_val, y_train, y_val = train_test_split(X_train_full, y_train_full, test_size=0.25, random_state=1)"
   ]
  },
  {
   "cell_type": "code",
   "execution_count": 10,
   "metadata": {},
   "outputs": [],
   "source": [
    "# Use DictVectorizer(sparse=True) to turn the dataframes into matrices.\n",
    "dv = DictVectorizer(sparse=True)\n",
    "X_train_matrix = dv.fit_transform(X_train.to_dict(orient=\"records\"))\n",
    "X_val_matrix = dv.transform(X_val.to_dict(orient=\"records\"))"
   ]
  },
  {
   "cell_type": "markdown",
   "metadata": {},
   "source": [
    "### question #1"
   ]
  },
  {
   "cell_type": "code",
   "execution_count": 11,
   "metadata": {},
   "outputs": [],
   "source": [
    "# Let's train a decision tree regressor to predict the median_house_value variable."
   ]
  },
  {
   "cell_type": "code",
   "execution_count": 13,
   "metadata": {},
   "outputs": [],
   "source": [
    "dt = DecisionTreeRegressor(max_depth=1)"
   ]
  },
  {
   "cell_type": "code",
   "execution_count": 14,
   "metadata": {},
   "outputs": [
    {
     "data": {
      "text/html": [
       "<style>#sk-container-id-1 {color: black;}#sk-container-id-1 pre{padding: 0;}#sk-container-id-1 div.sk-toggleable {background-color: white;}#sk-container-id-1 label.sk-toggleable__label {cursor: pointer;display: block;width: 100%;margin-bottom: 0;padding: 0.3em;box-sizing: border-box;text-align: center;}#sk-container-id-1 label.sk-toggleable__label-arrow:before {content: \"▸\";float: left;margin-right: 0.25em;color: #696969;}#sk-container-id-1 label.sk-toggleable__label-arrow:hover:before {color: black;}#sk-container-id-1 div.sk-estimator:hover label.sk-toggleable__label-arrow:before {color: black;}#sk-container-id-1 div.sk-toggleable__content {max-height: 0;max-width: 0;overflow: hidden;text-align: left;background-color: #f0f8ff;}#sk-container-id-1 div.sk-toggleable__content pre {margin: 0.2em;color: black;border-radius: 0.25em;background-color: #f0f8ff;}#sk-container-id-1 input.sk-toggleable__control:checked~div.sk-toggleable__content {max-height: 200px;max-width: 100%;overflow: auto;}#sk-container-id-1 input.sk-toggleable__control:checked~label.sk-toggleable__label-arrow:before {content: \"▾\";}#sk-container-id-1 div.sk-estimator input.sk-toggleable__control:checked~label.sk-toggleable__label {background-color: #d4ebff;}#sk-container-id-1 div.sk-label input.sk-toggleable__control:checked~label.sk-toggleable__label {background-color: #d4ebff;}#sk-container-id-1 input.sk-hidden--visually {border: 0;clip: rect(1px 1px 1px 1px);clip: rect(1px, 1px, 1px, 1px);height: 1px;margin: -1px;overflow: hidden;padding: 0;position: absolute;width: 1px;}#sk-container-id-1 div.sk-estimator {font-family: monospace;background-color: #f0f8ff;border: 1px dotted black;border-radius: 0.25em;box-sizing: border-box;margin-bottom: 0.5em;}#sk-container-id-1 div.sk-estimator:hover {background-color: #d4ebff;}#sk-container-id-1 div.sk-parallel-item::after {content: \"\";width: 100%;border-bottom: 1px solid gray;flex-grow: 1;}#sk-container-id-1 div.sk-label:hover label.sk-toggleable__label {background-color: #d4ebff;}#sk-container-id-1 div.sk-serial::before {content: \"\";position: absolute;border-left: 1px solid gray;box-sizing: border-box;top: 0;bottom: 0;left: 50%;z-index: 0;}#sk-container-id-1 div.sk-serial {display: flex;flex-direction: column;align-items: center;background-color: white;padding-right: 0.2em;padding-left: 0.2em;position: relative;}#sk-container-id-1 div.sk-item {position: relative;z-index: 1;}#sk-container-id-1 div.sk-parallel {display: flex;align-items: stretch;justify-content: center;background-color: white;position: relative;}#sk-container-id-1 div.sk-item::before, #sk-container-id-1 div.sk-parallel-item::before {content: \"\";position: absolute;border-left: 1px solid gray;box-sizing: border-box;top: 0;bottom: 0;left: 50%;z-index: -1;}#sk-container-id-1 div.sk-parallel-item {display: flex;flex-direction: column;z-index: 1;position: relative;background-color: white;}#sk-container-id-1 div.sk-parallel-item:first-child::after {align-self: flex-end;width: 50%;}#sk-container-id-1 div.sk-parallel-item:last-child::after {align-self: flex-start;width: 50%;}#sk-container-id-1 div.sk-parallel-item:only-child::after {width: 0;}#sk-container-id-1 div.sk-dashed-wrapped {border: 1px dashed gray;margin: 0 0.4em 0.5em 0.4em;box-sizing: border-box;padding-bottom: 0.4em;background-color: white;}#sk-container-id-1 div.sk-label label {font-family: monospace;font-weight: bold;display: inline-block;line-height: 1.2em;}#sk-container-id-1 div.sk-label-container {text-align: center;}#sk-container-id-1 div.sk-container {/* jupyter's `normalize.less` sets `[hidden] { display: none; }` but bootstrap.min.css set `[hidden] { display: none !important; }` so we also need the `!important` here to be able to override the default hidden behavior on the sphinx rendered scikit-learn.org. See: https://github.com/scikit-learn/scikit-learn/issues/21755 */display: inline-block !important;position: relative;}#sk-container-id-1 div.sk-text-repr-fallback {display: none;}</style><div id=\"sk-container-id-1\" class=\"sk-top-container\"><div class=\"sk-text-repr-fallback\"><pre>DecisionTreeRegressor(max_depth=1)</pre><b>In a Jupyter environment, please rerun this cell to show the HTML representation or trust the notebook. <br />On GitHub, the HTML representation is unable to render, please try loading this page with nbviewer.org.</b></div><div class=\"sk-container\" hidden><div class=\"sk-item\"><div class=\"sk-estimator sk-toggleable\"><input class=\"sk-toggleable__control sk-hidden--visually\" id=\"sk-estimator-id-1\" type=\"checkbox\" checked><label for=\"sk-estimator-id-1\" class=\"sk-toggleable__label sk-toggleable__label-arrow\">DecisionTreeRegressor</label><div class=\"sk-toggleable__content\"><pre>DecisionTreeRegressor(max_depth=1)</pre></div></div></div></div></div>"
      ],
      "text/plain": [
       "DecisionTreeRegressor(max_depth=1)"
      ]
     },
     "execution_count": 14,
     "metadata": {},
     "output_type": "execute_result"
    }
   ],
   "source": [
    "dt.fit(X_train_matrix, y_train)"
   ]
  },
  {
   "cell_type": "code",
   "execution_count": 16,
   "metadata": {},
   "outputs": [],
   "source": [
    "feature_names = dv.get_feature_names_out()"
   ]
  },
  {
   "cell_type": "code",
   "execution_count": 17,
   "metadata": {},
   "outputs": [
    {
     "data": {
      "image/png": "[encoded data removed]",
      "text/plain": [
       "<Figure size 1200x800 with 1 Axes>"
      ]
     },
     "metadata": {},
     "output_type": "display_data"
    }
   ],
   "source": [
    "plt.figure(figsize=(12, 8))\n",
    "plot_tree(dt, filled=True, feature_names=feature_names.tolist(), rounded=True)\n",
    "plt.show()"
   ]
  },
  {
   "cell_type": "code",
   "execution_count": 18,
   "metadata": {},
   "outputs": [],
   "source": [
    "# Which feature is used for splitting the data?"
   ]
  },
  {
   "cell_type": "markdown",
   "metadata": {},
   "source": [
    "`ocean_proximity`"
   ]
  },
  {
   "cell_type": "markdown",
   "metadata": {},
   "source": [
    "### question #2"
   ]
  },
  {
   "cell_type": "code",
   "execution_count": 19,
   "metadata": {},
   "outputs": [],
   "source": [
    "# Train a random forest model with these parameters:"
   ]
  },
  {
   "cell_type": "code",
   "execution_count": 20,
   "metadata": {},
   "outputs": [],
   "source": [
    "rf = RandomForestRegressor(n_estimators=10, random_state=1, n_jobs=-1)"
   ]
  },
  {
   "cell_type": "code",
   "execution_count": 21,
   "metadata": {},
   "outputs": [
    {
     "data": {
      "text/html": [
       "<style>#sk-container-id-2 {color: black;}#sk-container-id-2 pre{padding: 0;}#sk-container-id-2 div.sk-toggleable {background-color: white;}#sk-container-id-2 label.sk-toggleable__label {cursor: pointer;display: block;width: 100%;margin-bottom: 0;padding: 0.3em;box-sizing: border-box;text-align: center;}#sk-container-id-2 label.sk-toggleable__label-arrow:before {content: \"▸\";float: left;margin-right: 0.25em;color: #696969;}#sk-container-id-2 label.sk-toggleable__label-arrow:hover:before {color: black;}#sk-container-id-2 div.sk-estimator:hover label.sk-toggleable__label-arrow:before {color: black;}#sk-container-id-2 div.sk-toggleable__content {max-height: 0;max-width: 0;overflow: hidden;text-align: left;background-color: #f0f8ff;}#sk-container-id-2 div.sk-toggleable__content pre {margin: 0.2em;color: black;border-radius: 0.25em;background-color: #f0f8ff;}#sk-container-id-2 input.sk-toggleable__control:checked~div.sk-toggleable__content {max-height: 200px;max-width: 100%;overflow: auto;}#sk-container-id-2 input.sk-toggleable__control:checked~label.sk-toggleable__label-arrow:before {content: \"▾\";}#sk-container-id-2 div.sk-estimator input.sk-toggleable__control:checked~label.sk-toggleable__label {background-color: #d4ebff;}#sk-container-id-2 div.sk-label input.sk-toggleable__control:checked~label.sk-toggleable__label {background-color: #d4ebff;}#sk-container-id-2 input.sk-hidden--visually {border: 0;clip: rect(1px 1px 1px 1px);clip: rect(1px, 1px, 1px, 1px);height: 1px;margin: -1px;overflow: hidden;padding: 0;position: absolute;width: 1px;}#sk-container-id-2 div.sk-estimator {font-family: monospace;background-color: #f0f8ff;border: 1px dotted black;border-radius: 0.25em;box-sizing: border-box;margin-bottom: 0.5em;}#sk-container-id-2 div.sk-estimator:hover {background-color: #d4ebff;}#sk-container-id-2 div.sk-parallel-item::after {content: \"\";width: 100%;border-bottom: 1px solid gray;flex-grow: 1;}#sk-container-id-2 div.sk-label:hover label.sk-toggleable__label {background-color: #d4ebff;}#sk-container-id-2 div.sk-serial::before {content: \"\";position: absolute;border-left: 1px solid gray;box-sizing: border-box;top: 0;bottom: 0;left: 50%;z-index: 0;}#sk-container-id-2 div.sk-serial {display: flex;flex-direction: column;align-items: center;background-color: white;padding-right: 0.2em;padding-left: 0.2em;position: relative;}#sk-container-id-2 div.sk-item {position: relative;z-index: 1;}#sk-container-id-2 div.sk-parallel {display: flex;align-items: stretch;justify-content: center;background-color: white;position: relative;}#sk-container-id-2 div.sk-item::before, #sk-container-id-2 div.sk-parallel-item::before {content: \"\";position: absolute;border-left: 1px solid gray;box-sizing: border-box;top: 0;bottom: 0;left: 50%;z-index: -1;}#sk-container-id-2 div.sk-parallel-item {display: flex;flex-direction: column;z-index: 1;position: relative;background-color: white;}#sk-container-id-2 div.sk-parallel-item:first-child::after {align-self: flex-end;width: 50%;}#sk-container-id-2 div.sk-parallel-item:last-child::after {align-self: flex-start;width: 50%;}#sk-container-id-2 div.sk-parallel-item:only-child::after {width: 0;}#sk-container-id-2 div.sk-dashed-wrapped {border: 1px dashed gray;margin: 0 0.4em 0.5em 0.4em;box-sizing: border-box;padding-bottom: 0.4em;background-color: white;}#sk-container-id-2 div.sk-label label {font-family: monospace;font-weight: bold;display: inline-block;line-height: 1.2em;}#sk-container-id-2 div.sk-label-container {text-align: center;}#sk-container-id-2 div.sk-container {/* jupyter's `normalize.less` sets `[hidden] { display: none; }` but bootstrap.min.css set `[hidden] { display: none !important; }` so we also need the `!important` here to be able to override the default hidden behavior on the sphinx rendered scikit-learn.org. See: https://github.com/scikit-learn/scikit-learn/issues/21755 */display: inline-block !important;position: relative;}#sk-container-id-2 div.sk-text-repr-fallback {display: none;}</style><div id=\"sk-container-id-2\" class=\"sk-top-container\"><div class=\"sk-text-repr-fallback\"><pre>RandomForestRegressor(n_estimators=10, n_jobs=-1, random_state=1)</pre><b>In a Jupyter environment, please rerun this cell to show the HTML representation or trust the notebook. <br />On GitHub, the HTML representation is unable to render, please try loading this page with nbviewer.org.</b></div><div class=\"sk-container\" hidden><div class=\"sk-item\"><div class=\"sk-estimator sk-toggleable\"><input class=\"sk-toggleable__control sk-hidden--visually\" id=\"sk-estimator-id-2\" type=\"checkbox\" checked><label for=\"sk-estimator-id-2\" class=\"sk-toggleable__label sk-toggleable__label-arrow\">RandomForestRegressor</label><div class=\"sk-toggleable__content\"><pre>RandomForestRegressor(n_estimators=10, n_jobs=-1, random_state=1)</pre></div></div></div></div></div>"
      ],
      "text/plain": [
       "RandomForestRegressor(n_estimators=10, n_jobs=-1, random_state=1)"
      ]
     },
     "execution_count": 21,
     "metadata": {},
     "output_type": "execute_result"
    }
   ],
   "source": [
    "rf.fit(X_train_matrix, y_train)"
   ]
  },
  {
   "cell_type": "code",
   "execution_count": 22,
   "metadata": {},
   "outputs": [],
   "source": [
    "preds = rf.predict(X_val_matrix)"
   ]
  },
  {
   "cell_type": "code",
   "execution_count": 24,
   "metadata": {},
   "outputs": [
    {
     "data": {
      "text/plain": [
       "0.2449529003059715"
      ]
     },
     "execution_count": 24,
     "metadata": {},
     "output_type": "execute_result"
    }
   ],
   "source": [
    "mean_squared_error(y_val, preds, squared=False)"
   ]
  },
  {
   "cell_type": "code",
   "execution_count": 25,
   "metadata": {},
   "outputs": [],
   "source": [
    "# What's the RMSE of this model on validation?"
   ]
  },
  {
   "cell_type": "markdown",
   "metadata": {},
   "source": [
    "`0.2449529003059715`"
   ]
  },
  {
   "cell_type": "markdown",
   "metadata": {},
   "source": [
    "### question #3"
   ]
  },
  {
   "cell_type": "code",
   "execution_count": 26,
   "metadata": {},
   "outputs": [
    {
     "name": "stdout",
     "output_type": "stream",
     "text": [
      "n_estimators= 10 rmse= 0.245\n",
      "n_estimators= 20 rmse= 0.238\n",
      "n_estimators= 30 rmse= 0.237\n",
      "n_estimators= 40 rmse= 0.235\n",
      "n_estimators= 50 rmse= 0.235\n",
      "n_estimators= 60 rmse= 0.235\n",
      "n_estimators= 70 rmse= 0.234\n",
      "n_estimators= 80 rmse= 0.235\n",
      "n_estimators= 90 rmse= 0.234\n",
      "n_estimators= 100 rmse= 0.234\n",
      "n_estimators= 110 rmse= 0.234\n",
      "n_estimators= 120 rmse= 0.234\n",
      "n_estimators= 130 rmse= 0.234\n",
      "n_estimators= 140 rmse= 0.234\n",
      "n_estimators= 150 rmse= 0.234\n",
      "n_estimators= 160 rmse= 0.233\n",
      "n_estimators= 170 rmse= 0.233\n",
      "n_estimators= 180 rmse= 0.234\n",
      "n_estimators= 190 rmse= 0.234\n"
     ]
    }
   ],
   "source": [
    "# Now let's experiment with the n_estimators parameter\n",
    "\n",
    "# Try different values of this parameter from 10 to 200 with step 10.\n",
    "# Set random_state to 1.\n",
    "# Evaluate the model on the validation dataset.\n",
    "\n",
    "for n in range(10, 200, 10):\n",
    "    rf = RandomForestRegressor(n_estimators=n, random_state=1, n_jobs=-1)\n",
    "    rf.fit(X_train_matrix, y_train)\n",
    "    preds = rf.predict(X_val_matrix)\n",
    "    print(\"n_estimators=\", n, \"rmse=\", round(mean_squared_error(y_val, preds, squared=False), 3))"
   ]
  },
  {
   "cell_type": "code",
   "execution_count": 27,
   "metadata": {},
   "outputs": [],
   "source": [
    "# After which value of n_estimators does RMSE stop improving? Consider 3 decimal places for retrieving the answer."
   ]
  },
  {
   "cell_type": "markdown",
   "metadata": {},
   "source": [
    "`n_estimators=50`"
   ]
  },
  {
   "cell_type": "markdown",
   "metadata": {},
   "source": [
    "### question #4"
   ]
  },
  {
   "cell_type": "code",
   "execution_count": 28,
   "metadata": {},
   "outputs": [
    {
     "name": "stdout",
     "output_type": "stream",
     "text": [
      "max_depth= 10 rmse= 0.25100000000000006\n",
      "max_depth= 15 rmse= 0.24300000000000005\n",
      "max_depth= 20 rmse= 0.23899999999999996\n",
      "max_depth= 25 rmse= 0.23700000000000002\n"
     ]
    }
   ],
   "source": [
    "# Let's select the best max_depth:\n",
    "\n",
    "#     Try different values of max_depth: [10, 15, 20, 25]\n",
    "#     For each of these values,\n",
    "#         try different values of n_estimators from 10 till 200 (with step 10)\n",
    "#         calculate the mean RMSE\n",
    "#     Fix the random seed: random_state=1\n",
    "\n",
    "for n in [10, 15, 20, 25]:\n",
    "    score = []\n",
    "    for m in range(10, 200, 10):\n",
    "        rf = RandomForestRegressor(n_estimators=n, max_depth=n, random_state=1, n_jobs=-1)\n",
    "        rf.fit(X_train_matrix, y_train)\n",
    "        preds = rf.predict(X_val_matrix)\n",
    "        score.append(round(mean_squared_error(y_val, preds, squared=False), 3))\n",
    "    print(\"max_depth=\", n, \"rmse=\", np.mean(score))\n",
    "    \n"
   ]
  },
  {
   "cell_type": "code",
   "execution_count": 29,
   "metadata": {},
   "outputs": [],
   "source": [
    "# What's the best max_depth, using the mean RMSE?"
   ]
  },
  {
   "cell_type": "markdown",
   "metadata": {},
   "source": [
    "`max_depth=25, rmse=0.237`"
   ]
  },
  {
   "cell_type": "markdown",
   "metadata": {},
   "source": [
    "### question #5"
   ]
  },
  {
   "cell_type": "code",
   "execution_count": 30,
   "metadata": {},
   "outputs": [
    {
     "data": {
      "text/html": [
       "<style>#sk-container-id-3 {color: black;}#sk-container-id-3 pre{padding: 0;}#sk-container-id-3 div.sk-toggleable {background-color: white;}#sk-container-id-3 label.sk-toggleable__label {cursor: pointer;display: block;width: 100%;margin-bottom: 0;padding: 0.3em;box-sizing: border-box;text-align: center;}#sk-container-id-3 label.sk-toggleable__label-arrow:before {content: \"▸\";float: left;margin-right: 0.25em;color: #696969;}#sk-container-id-3 label.sk-toggleable__label-arrow:hover:before {color: black;}#sk-container-id-3 div.sk-estimator:hover label.sk-toggleable__label-arrow:before {color: black;}#sk-container-id-3 div.sk-toggleable__content {max-height: 0;max-width: 0;overflow: hidden;text-align: left;background-color: #f0f8ff;}#sk-container-id-3 div.sk-toggleable__content pre {margin: 0.2em;color: black;border-radius: 0.25em;background-color: #f0f8ff;}#sk-container-id-3 input.sk-toggleable__control:checked~div.sk-toggleable__content {max-height: 200px;max-width: 100%;overflow: auto;}#sk-container-id-3 input.sk-toggleable__control:checked~label.sk-toggleable__label-arrow:before {content: \"▾\";}#sk-container-id-3 div.sk-estimator input.sk-toggleable__control:checked~label.sk-toggleable__label {background-color: #d4ebff;}#sk-container-id-3 div.sk-label input.sk-toggleable__control:checked~label.sk-toggleable__label {background-color: #d4ebff;}#sk-container-id-3 input.sk-hidden--visually {border: 0;clip: rect(1px 1px 1px 1px);clip: rect(1px, 1px, 1px, 1px);height: 1px;margin: -1px;overflow: hidden;padding: 0;position: absolute;width: 1px;}#sk-container-id-3 div.sk-estimator {font-family: monospace;background-color: #f0f8ff;border: 1px dotted black;border-radius: 0.25em;box-sizing: border-box;margin-bottom: 0.5em;}#sk-container-id-3 div.sk-estimator:hover {background-color: #d4ebff;}#sk-container-id-3 div.sk-parallel-item::after {content: \"\";width: 100%;border-bottom: 1px solid gray;flex-grow: 1;}#sk-container-id-3 div.sk-label:hover label.sk-toggleable__label {background-color: #d4ebff;}#sk-container-id-3 div.sk-serial::before {content: \"\";position: absolute;border-left: 1px solid gray;box-sizing: border-box;top: 0;bottom: 0;left: 50%;z-index: 0;}#sk-container-id-3 div.sk-serial {display: flex;flex-direction: column;align-items: center;background-color: white;padding-right: 0.2em;padding-left: 0.2em;position: relative;}#sk-container-id-3 div.sk-item {position: relative;z-index: 1;}#sk-container-id-3 div.sk-parallel {display: flex;align-items: stretch;justify-content: center;background-color: white;position: relative;}#sk-container-id-3 div.sk-item::before, #sk-container-id-3 div.sk-parallel-item::before {content: \"\";position: absolute;border-left: 1px solid gray;box-sizing: border-box;top: 0;bottom: 0;left: 50%;z-index: -1;}#sk-container-id-3 div.sk-parallel-item {display: flex;flex-direction: column;z-index: 1;position: relative;background-color: white;}#sk-container-id-3 div.sk-parallel-item:first-child::after {align-self: flex-end;width: 50%;}#sk-container-id-3 div.sk-parallel-item:last-child::after {align-self: flex-start;width: 50%;}#sk-container-id-3 div.sk-parallel-item:only-child::after {width: 0;}#sk-container-id-3 div.sk-dashed-wrapped {border: 1px dashed gray;margin: 0 0.4em 0.5em 0.4em;box-sizing: border-box;padding-bottom: 0.4em;background-color: white;}#sk-container-id-3 div.sk-label label {font-family: monospace;font-weight: bold;display: inline-block;line-height: 1.2em;}#sk-container-id-3 div.sk-label-container {text-align: center;}#sk-container-id-3 div.sk-container {/* jupyter's `normalize.less` sets `[hidden] { display: none; }` but bootstrap.min.css set `[hidden] { display: none !important; }` so we also need the `!important` here to be able to override the default hidden behavior on the sphinx rendered scikit-learn.org. See: https://github.com/scikit-learn/scikit-learn/issues/21755 */display: inline-block !important;position: relative;}#sk-container-id-3 div.sk-text-repr-fallback {display: none;}</style><div id=\"sk-container-id-3\" class=\"sk-top-container\"><div class=\"sk-text-repr-fallback\"><pre>RandomForestRegressor(max_depth=20, n_estimators=10, n_jobs=-1, random_state=1)</pre><b>In a Jupyter environment, please rerun this cell to show the HTML representation or trust the notebook. <br />On GitHub, the HTML representation is unable to render, please try loading this page with nbviewer.org.</b></div><div class=\"sk-container\" hidden><div class=\"sk-item\"><div class=\"sk-estimator sk-toggleable\"><input class=\"sk-toggleable__control sk-hidden--visually\" id=\"sk-estimator-id-3\" type=\"checkbox\" checked><label for=\"sk-estimator-id-3\" class=\"sk-toggleable__label sk-toggleable__label-arrow\">RandomForestRegressor</label><div class=\"sk-toggleable__content\"><pre>RandomForestRegressor(max_depth=20, n_estimators=10, n_jobs=-1, random_state=1)</pre></div></div></div></div></div>"
      ],
      "text/plain": [
       "RandomForestRegressor(max_depth=20, n_estimators=10, n_jobs=-1, random_state=1)"
      ]
     },
     "execution_count": 30,
     "metadata": {},
     "output_type": "execute_result"
    }
   ],
   "source": [
    "# We can extract feature importance information from tree-based models.\n",
    "\n",
    "# At each step of the decision tree learning algorithm, it finds the best split. \n",
    "# When doing it, we can calculate \"gain\" - the reduction in impurity before and after the split. \n",
    "# This gain is quite useful in understanding what are the important features for tree-based models.\n",
    "\n",
    "# In Scikit-Learn, tree-based models contain this information in the feature_importances_ field.\n",
    "\n",
    "# For this homework question, we'll find the most important feature:\n",
    "\n",
    "#     Train the model with these parameters:\n",
    "#         n_estimators=10,\n",
    "#         max_depth=20,\n",
    "#         random_state=1,\n",
    "#         n_jobs=-1 (optional)\n",
    "#     Get the feature importance information from this model\n",
    "rf = RandomForestRegressor(n_estimators=10, max_depth=20, random_state=1, n_jobs=-1)\n",
    "rf.fit(X_train_matrix, y_train)"
   ]
  },
  {
   "cell_type": "code",
   "execution_count": 31,
   "metadata": {},
   "outputs": [
    {
     "data": {
      "text/plain": [
       "array([0.01495348, 0.03019435, 0.10189142, 0.0861758 , 0.33566849,\n",
       "       0.29247297, 0.07380644, 0.02682069, 0.01624481, 0.02177155])"
      ]
     },
     "execution_count": 31,
     "metadata": {},
     "output_type": "execute_result"
    }
   ],
   "source": [
    "rf.feature_importances_"
   ]
  },
  {
   "cell_type": "code",
   "execution_count": 32,
   "metadata": {},
   "outputs": [
    {
     "data": {
      "text/plain": [
       "array(['households', 'housing_median_age', 'latitude', 'longitude',\n",
       "       'median_income', 'ocean_proximity=<1H OCEAN',\n",
       "       'ocean_proximity=INLAND', 'population', 'total_bedrooms',\n",
       "       'total_rooms'], dtype=object)"
      ]
     },
     "execution_count": 32,
     "metadata": {},
     "output_type": "execute_result"
    }
   ],
   "source": [
    "feature_names"
   ]
  },
  {
   "cell_type": "code",
   "execution_count": 33,
   "metadata": {},
   "outputs": [
    {
     "data": {
      "text/html": [
       "<div>\n",
       "<style scoped>\n",
       "    .dataframe tbody tr th:only-of-type {\n",
       "        vertical-align: middle;\n",
       "    }\n",
       "\n",
       "    .dataframe tbody tr th {\n",
       "        vertical-align: top;\n",
       "    }\n",
       "\n",
       "    .dataframe thead th {\n",
       "        text-align: right;\n",
       "    }\n",
       "</style>\n",
       "<table border=\"1\" class=\"dataframe\">\n",
       "  <thead>\n",
       "    <tr style=\"text-align: right;\">\n",
       "      <th></th>\n",
       "      <th>feature</th>\n",
       "      <th>value</th>\n",
       "    </tr>\n",
       "  </thead>\n",
       "  <tbody>\n",
       "    <tr>\n",
       "      <th>4</th>\n",
       "      <td>median_income</td>\n",
       "      <td>0.335668</td>\n",
       "    </tr>\n",
       "    <tr>\n",
       "      <th>5</th>\n",
       "      <td>ocean_proximity=&lt;1H OCEAN</td>\n",
       "      <td>0.292473</td>\n",
       "    </tr>\n",
       "    <tr>\n",
       "      <th>2</th>\n",
       "      <td>latitude</td>\n",
       "      <td>0.101891</td>\n",
       "    </tr>\n",
       "    <tr>\n",
       "      <th>3</th>\n",
       "      <td>longitude</td>\n",
       "      <td>0.086176</td>\n",
       "    </tr>\n",
       "    <tr>\n",
       "      <th>6</th>\n",
       "      <td>ocean_proximity=INLAND</td>\n",
       "      <td>0.073806</td>\n",
       "    </tr>\n",
       "    <tr>\n",
       "      <th>1</th>\n",
       "      <td>housing_median_age</td>\n",
       "      <td>0.030194</td>\n",
       "    </tr>\n",
       "    <tr>\n",
       "      <th>7</th>\n",
       "      <td>population</td>\n",
       "      <td>0.026821</td>\n",
       "    </tr>\n",
       "    <tr>\n",
       "      <th>9</th>\n",
       "      <td>total_rooms</td>\n",
       "      <td>0.021772</td>\n",
       "    </tr>\n",
       "    <tr>\n",
       "      <th>8</th>\n",
       "      <td>total_bedrooms</td>\n",
       "      <td>0.016245</td>\n",
       "    </tr>\n",
       "    <tr>\n",
       "      <th>0</th>\n",
       "      <td>households</td>\n",
       "      <td>0.014953</td>\n",
       "    </tr>\n",
       "  </tbody>\n",
       "</table>\n",
       "</div>"
      ],
      "text/plain": [
       "                     feature     value\n",
       "4              median_income  0.335668\n",
       "5  ocean_proximity=<1H OCEAN  0.292473\n",
       "2                   latitude  0.101891\n",
       "3                  longitude  0.086176\n",
       "6     ocean_proximity=INLAND  0.073806\n",
       "1         housing_median_age  0.030194\n",
       "7                 population  0.026821\n",
       "9                total_rooms  0.021772\n",
       "8             total_bedrooms  0.016245\n",
       "0                 households  0.014953"
      ]
     },
     "execution_count": 33,
     "metadata": {},
     "output_type": "execute_result"
    }
   ],
   "source": [
    "df_features = pd.DataFrame({\n",
    "    'feature': feature_names,\n",
    "    'value': rf.feature_importances_\n",
    "})\n",
    "\n",
    "df_sorted = df_features.sort_values(by=\"value\", ascending=False)\n",
    "df_sorted"
   ]
  },
  {
   "cell_type": "code",
   "execution_count": 34,
   "metadata": {},
   "outputs": [],
   "source": [
    "# What's the most important feature (among these 4)?\n",
    "\n",
    "#     total_rooms\n",
    "#     median_income\n",
    "#     total_bedrooms\n",
    "#     longitude"
   ]
  },
  {
   "cell_type": "markdown",
   "metadata": {},
   "source": [
    "`median_income`"
   ]
  },
  {
   "cell_type": "markdown",
   "metadata": {},
   "source": [
    "### question #6"
   ]
  },
  {
   "cell_type": "code",
   "execution_count": 40,
   "metadata": {},
   "outputs": [],
   "source": [
    "# Now let's train an XGBoost model! For this question, we'll tune the eta parameter:\n",
    "# Install XGBoost"
   ]
  },
  {
   "cell_type": "code",
   "execution_count": 41,
   "metadata": {},
   "outputs": [],
   "source": [
    "# Create DMatrix for train and validation\n",
    "dtrain = xgb.DMatrix(X_train_matrix, label=y_train)\n",
    "dval = xgb.DMatrix(X_val_matrix, label=y_val)"
   ]
  },
  {
   "cell_type": "code",
   "execution_count": 44,
   "metadata": {},
   "outputs": [],
   "source": [
    "# Create a watchlist\n",
    "watchlist = [(dtrain, \"train\"), (dval, \"dval\")]"
   ]
  },
  {
   "cell_type": "code",
   "execution_count": 45,
   "metadata": {},
   "outputs": [
    {
     "name": "stdout",
     "output_type": "stream",
     "text": [
      "[0]\ttrain-rmse:0.44350\tdval-rmse:0.44250\n",
      "[1]\ttrain-rmse:0.36599\tdval-rmse:0.36916\n",
      "[2]\ttrain-rmse:0.31556\tdval-rmse:0.32382\n",
      "[3]\ttrain-rmse:0.28541\tdval-rmse:0.29965\n",
      "[4]\ttrain-rmse:0.26573\tdval-rmse:0.28417\n",
      "[5]\ttrain-rmse:0.25338\tdval-rmse:0.27463\n",
      "[6]\ttrain-rmse:0.24157\tdval-rmse:0.26770\n",
      "[7]\ttrain-rmse:0.23486\tdval-rmse:0.26423\n",
      "[8]\ttrain-rmse:0.22668\tdval-rmse:0.25820\n",
      "[9]\ttrain-rmse:0.21995\tdval-rmse:0.25444\n",
      "[10]\ttrain-rmse:0.21444\tdval-rmse:0.25179\n",
      "[11]\ttrain-rmse:0.21155\tdval-rmse:0.25054\n",
      "[12]\ttrain-rmse:0.20729\tdval-rmse:0.24791\n",
      "[13]\ttrain-rmse:0.20317\tdval-rmse:0.24628\n",
      "[14]\ttrain-rmse:0.20135\tdval-rmse:0.24630\n",
      "[15]\ttrain-rmse:0.19858\tdval-rmse:0.24522\n",
      "[16]\ttrain-rmse:0.19580\tdval-rmse:0.24445\n",
      "[17]\ttrain-rmse:0.19333\tdval-rmse:0.24395\n",
      "[18]\ttrain-rmse:0.19107\tdval-rmse:0.24284\n",
      "[19]\ttrain-rmse:0.18735\tdval-rmse:0.24127\n",
      "[20]\ttrain-rmse:0.18524\tdval-rmse:0.23978\n",
      "[21]\ttrain-rmse:0.18332\tdval-rmse:0.23963\n",
      "[22]\ttrain-rmse:0.18189\tdval-rmse:0.23892\n",
      "[23]\ttrain-rmse:0.18006\tdval-rmse:0.23847\n",
      "[24]\ttrain-rmse:0.17869\tdval-rmse:0.23847\n",
      "[25]\ttrain-rmse:0.17757\tdval-rmse:0.23830\n",
      "[26]\ttrain-rmse:0.17520\tdval-rmse:0.23862\n",
      "[27]\ttrain-rmse:0.17430\tdval-rmse:0.23807\n",
      "[28]\ttrain-rmse:0.17281\tdval-rmse:0.23793\n",
      "[29]\ttrain-rmse:0.17091\tdval-rmse:0.23683\n",
      "[30]\ttrain-rmse:0.16888\tdval-rmse:0.23570\n",
      "[31]\ttrain-rmse:0.16727\tdval-rmse:0.23505\n",
      "[32]\ttrain-rmse:0.16553\tdval-rmse:0.23494\n",
      "[33]\ttrain-rmse:0.16453\tdval-rmse:0.23476\n",
      "[34]\ttrain-rmse:0.16292\tdval-rmse:0.23490\n",
      "[35]\ttrain-rmse:0.16113\tdval-rmse:0.23416\n",
      "[36]\ttrain-rmse:0.15969\tdval-rmse:0.23402\n",
      "[37]\ttrain-rmse:0.15859\tdval-rmse:0.23362\n",
      "[38]\ttrain-rmse:0.15726\tdval-rmse:0.23393\n",
      "[39]\ttrain-rmse:0.15663\tdval-rmse:0.23383\n",
      "[40]\ttrain-rmse:0.15542\tdval-rmse:0.23318\n",
      "[41]\ttrain-rmse:0.15426\tdval-rmse:0.23300\n",
      "[42]\ttrain-rmse:0.15289\tdval-rmse:0.23266\n",
      "[43]\ttrain-rmse:0.15189\tdval-rmse:0.23252\n",
      "[44]\ttrain-rmse:0.15092\tdval-rmse:0.23252\n",
      "[45]\ttrain-rmse:0.14941\tdval-rmse:0.23190\n",
      "[46]\ttrain-rmse:0.14856\tdval-rmse:0.23178\n",
      "[47]\ttrain-rmse:0.14742\tdval-rmse:0.23183\n",
      "[48]\ttrain-rmse:0.14683\tdval-rmse:0.23198\n",
      "[49]\ttrain-rmse:0.14629\tdval-rmse:0.23206\n",
      "[50]\ttrain-rmse:0.14536\tdval-rmse:0.23225\n",
      "[51]\ttrain-rmse:0.14450\tdval-rmse:0.23225\n",
      "[52]\ttrain-rmse:0.14353\tdval-rmse:0.23223\n",
      "[53]\ttrain-rmse:0.14276\tdval-rmse:0.23199\n",
      "[54]\ttrain-rmse:0.14180\tdval-rmse:0.23194\n",
      "[55]\ttrain-rmse:0.14150\tdval-rmse:0.23197\n",
      "[56]\ttrain-rmse:0.14085\tdval-rmse:0.23189\n",
      "[57]\ttrain-rmse:0.14020\tdval-rmse:0.23177\n",
      "[58]\ttrain-rmse:0.13931\tdval-rmse:0.23175\n",
      "[59]\ttrain-rmse:0.13816\tdval-rmse:0.23148\n",
      "[60]\ttrain-rmse:0.13719\tdval-rmse:0.23139\n",
      "[61]\ttrain-rmse:0.13640\tdval-rmse:0.23179\n",
      "[62]\ttrain-rmse:0.13566\tdval-rmse:0.23160\n",
      "[63]\ttrain-rmse:0.13439\tdval-rmse:0.23151\n",
      "[64]\ttrain-rmse:0.13358\tdval-rmse:0.23153\n",
      "[65]\ttrain-rmse:0.13259\tdval-rmse:0.23158\n",
      "[66]\ttrain-rmse:0.13197\tdval-rmse:0.23144\n",
      "[67]\ttrain-rmse:0.13175\tdval-rmse:0.23148\n",
      "[68]\ttrain-rmse:0.13117\tdval-rmse:0.23148\n",
      "[69]\ttrain-rmse:0.13046\tdval-rmse:0.23137\n",
      "[70]\ttrain-rmse:0.12943\tdval-rmse:0.23068\n",
      "[71]\ttrain-rmse:0.12894\tdval-rmse:0.23064\n",
      "[72]\ttrain-rmse:0.12854\tdval-rmse:0.23082\n",
      "[73]\ttrain-rmse:0.12741\tdval-rmse:0.23059\n",
      "[74]\ttrain-rmse:0.12635\tdval-rmse:0.23048\n",
      "[75]\ttrain-rmse:0.12555\tdval-rmse:0.23039\n",
      "[76]\ttrain-rmse:0.12395\tdval-rmse:0.22935\n",
      "[77]\ttrain-rmse:0.12342\tdval-rmse:0.22941\n",
      "[78]\ttrain-rmse:0.12255\tdval-rmse:0.22913\n",
      "[79]\ttrain-rmse:0.12220\tdval-rmse:0.22889\n",
      "[80]\ttrain-rmse:0.12192\tdval-rmse:0.22886\n",
      "[81]\ttrain-rmse:0.12126\tdval-rmse:0.22903\n",
      "[82]\ttrain-rmse:0.12056\tdval-rmse:0.22891\n",
      "[83]\ttrain-rmse:0.11995\tdval-rmse:0.22885\n",
      "[84]\ttrain-rmse:0.11922\tdval-rmse:0.22893\n",
      "[85]\ttrain-rmse:0.11854\tdval-rmse:0.22888\n",
      "[86]\ttrain-rmse:0.11781\tdval-rmse:0.22899\n",
      "[87]\ttrain-rmse:0.11692\tdval-rmse:0.22908\n",
      "[88]\ttrain-rmse:0.11613\tdval-rmse:0.22905\n",
      "[89]\ttrain-rmse:0.11557\tdval-rmse:0.22886\n",
      "[90]\ttrain-rmse:0.11496\tdval-rmse:0.22861\n",
      "[91]\ttrain-rmse:0.11461\tdval-rmse:0.22874\n",
      "[92]\ttrain-rmse:0.11386\tdval-rmse:0.22887\n",
      "[93]\ttrain-rmse:0.11342\tdval-rmse:0.22895\n",
      "[94]\ttrain-rmse:0.11281\tdval-rmse:0.22904\n",
      "[95]\ttrain-rmse:0.11211\tdval-rmse:0.22908\n",
      "[96]\ttrain-rmse:0.11139\tdval-rmse:0.22875\n",
      "[97]\ttrain-rmse:0.11089\tdval-rmse:0.22864\n",
      "[98]\ttrain-rmse:0.11041\tdval-rmse:0.22868\n",
      "[99]\ttrain-rmse:0.10989\tdval-rmse:0.22862\n"
     ]
    }
   ],
   "source": [
    "# Train a model with these parameters for 100 rounds:\n",
    "xgb_params = {\n",
    "    'eta': 0.3, \n",
    "    'max_depth': 6,\n",
    "    'min_child_weight': 1,\n",
    "\n",
    "    'objective': 'reg:squarederror',\n",
    "    'nthread': 8,\n",
    "\n",
    "    'seed': 1,\n",
    "    'verbosity': 1,\n",
    "}\n",
    "\n",
    "model = xgb.train(xgb_params, dtrain, num_boost_round=100, evals=watchlist)"
   ]
  },
  {
   "cell_type": "code",
   "execution_count": 46,
   "metadata": {},
   "outputs": [
    {
     "name": "stdout",
     "output_type": "stream",
     "text": [
      "[0]\ttrain-rmse:0.52449\tdval-rmse:0.52045\n",
      "[1]\ttrain-rmse:0.48736\tdval-rmse:0.48443\n",
      "[2]\ttrain-rmse:0.45433\tdval-rmse:0.45293\n",
      "[3]\ttrain-rmse:0.42533\tdval-rmse:0.42550\n",
      "[4]\ttrain-rmse:0.39987\tdval-rmse:0.40144\n",
      "[5]\ttrain-rmse:0.37822\tdval-rmse:0.38151\n",
      "[6]\ttrain-rmse:0.35887\tdval-rmse:0.36393\n",
      "[7]\ttrain-rmse:0.34177\tdval-rmse:0.34838\n",
      "[8]\ttrain-rmse:0.32701\tdval-rmse:0.33492\n",
      "[9]\ttrain-rmse:0.31411\tdval-rmse:0.32333\n",
      "[10]\ttrain-rmse:0.30326\tdval-rmse:0.31427\n",
      "[11]\ttrain-rmse:0.29355\tdval-rmse:0.30615\n",
      "[12]\ttrain-rmse:0.28519\tdval-rmse:0.29922\n",
      "[13]\ttrain-rmse:0.27760\tdval-rmse:0.29269\n",
      "[14]\ttrain-rmse:0.27116\tdval-rmse:0.28796\n",
      "[15]\ttrain-rmse:0.26538\tdval-rmse:0.28380\n",
      "[16]\ttrain-rmse:0.26012\tdval-rmse:0.27970\n",
      "[17]\ttrain-rmse:0.25583\tdval-rmse:0.27661\n",
      "[18]\ttrain-rmse:0.25203\tdval-rmse:0.27388\n",
      "[19]\ttrain-rmse:0.24818\tdval-rmse:0.27123\n",
      "[20]\ttrain-rmse:0.24512\tdval-rmse:0.26882\n",
      "[21]\ttrain-rmse:0.24149\tdval-rmse:0.26669\n",
      "[22]\ttrain-rmse:0.23895\tdval-rmse:0.26478\n",
      "[23]\ttrain-rmse:0.23594\tdval-rmse:0.26331\n",
      "[24]\ttrain-rmse:0.23305\tdval-rmse:0.26141\n",
      "[25]\ttrain-rmse:0.23026\tdval-rmse:0.25997\n",
      "[26]\ttrain-rmse:0.22720\tdval-rmse:0.25799\n",
      "[27]\ttrain-rmse:0.22487\tdval-rmse:0.25620\n",
      "[28]\ttrain-rmse:0.22268\tdval-rmse:0.25494\n",
      "[29]\ttrain-rmse:0.22084\tdval-rmse:0.25374\n",
      "[30]\ttrain-rmse:0.21887\tdval-rmse:0.25266\n",
      "[31]\ttrain-rmse:0.21709\tdval-rmse:0.25172\n",
      "[32]\ttrain-rmse:0.21505\tdval-rmse:0.25075\n",
      "[33]\ttrain-rmse:0.21342\tdval-rmse:0.24991\n",
      "[34]\ttrain-rmse:0.21168\tdval-rmse:0.24882\n",
      "[35]\ttrain-rmse:0.21020\tdval-rmse:0.24826\n",
      "[36]\ttrain-rmse:0.20878\tdval-rmse:0.24779\n",
      "[37]\ttrain-rmse:0.20755\tdval-rmse:0.24731\n",
      "[38]\ttrain-rmse:0.20625\tdval-rmse:0.24668\n",
      "[39]\ttrain-rmse:0.20518\tdval-rmse:0.24624\n",
      "[40]\ttrain-rmse:0.20392\tdval-rmse:0.24539\n",
      "[41]\ttrain-rmse:0.20285\tdval-rmse:0.24501\n",
      "[42]\ttrain-rmse:0.20172\tdval-rmse:0.24435\n",
      "[43]\ttrain-rmse:0.20045\tdval-rmse:0.24380\n",
      "[44]\ttrain-rmse:0.19900\tdval-rmse:0.24311\n",
      "[45]\ttrain-rmse:0.19814\tdval-rmse:0.24293\n",
      "[46]\ttrain-rmse:0.19628\tdval-rmse:0.24184\n",
      "[47]\ttrain-rmse:0.19561\tdval-rmse:0.24159\n",
      "[48]\ttrain-rmse:0.19464\tdval-rmse:0.24131\n",
      "[49]\ttrain-rmse:0.19371\tdval-rmse:0.24109\n",
      "[50]\ttrain-rmse:0.19215\tdval-rmse:0.24020\n",
      "[51]\ttrain-rmse:0.19156\tdval-rmse:0.24015\n",
      "[52]\ttrain-rmse:0.19059\tdval-rmse:0.23979\n",
      "[53]\ttrain-rmse:0.18985\tdval-rmse:0.23958\n",
      "[54]\ttrain-rmse:0.18931\tdval-rmse:0.23930\n",
      "[55]\ttrain-rmse:0.18809\tdval-rmse:0.23878\n",
      "[56]\ttrain-rmse:0.18734\tdval-rmse:0.23853\n",
      "[57]\ttrain-rmse:0.18681\tdval-rmse:0.23849\n",
      "[58]\ttrain-rmse:0.18623\tdval-rmse:0.23836\n",
      "[59]\ttrain-rmse:0.18561\tdval-rmse:0.23835\n",
      "[60]\ttrain-rmse:0.18457\tdval-rmse:0.23791\n",
      "[61]\ttrain-rmse:0.18363\tdval-rmse:0.23783\n",
      "[62]\ttrain-rmse:0.18310\tdval-rmse:0.23788\n",
      "[63]\ttrain-rmse:0.18209\tdval-rmse:0.23755\n",
      "[64]\ttrain-rmse:0.18150\tdval-rmse:0.23735\n",
      "[65]\ttrain-rmse:0.18063\tdval-rmse:0.23698\n",
      "[66]\ttrain-rmse:0.17998\tdval-rmse:0.23681\n",
      "[67]\ttrain-rmse:0.17913\tdval-rmse:0.23646\n",
      "[68]\ttrain-rmse:0.17843\tdval-rmse:0.23628\n",
      "[69]\ttrain-rmse:0.17798\tdval-rmse:0.23627\n",
      "[70]\ttrain-rmse:0.17741\tdval-rmse:0.23622\n",
      "[71]\ttrain-rmse:0.17685\tdval-rmse:0.23607\n",
      "[72]\ttrain-rmse:0.17617\tdval-rmse:0.23584\n",
      "[73]\ttrain-rmse:0.17557\tdval-rmse:0.23562\n",
      "[74]\ttrain-rmse:0.17522\tdval-rmse:0.23537\n",
      "[75]\ttrain-rmse:0.17468\tdval-rmse:0.23510\n",
      "[76]\ttrain-rmse:0.17432\tdval-rmse:0.23503\n",
      "[77]\ttrain-rmse:0.17395\tdval-rmse:0.23494\n",
      "[78]\ttrain-rmse:0.17334\tdval-rmse:0.23482\n",
      "[79]\ttrain-rmse:0.17287\tdval-rmse:0.23467\n",
      "[80]\ttrain-rmse:0.17242\tdval-rmse:0.23453\n",
      "[81]\ttrain-rmse:0.17213\tdval-rmse:0.23447\n",
      "[82]\ttrain-rmse:0.17139\tdval-rmse:0.23431\n",
      "[83]\ttrain-rmse:0.17105\tdval-rmse:0.23428\n",
      "[84]\ttrain-rmse:0.17063\tdval-rmse:0.23413\n",
      "[85]\ttrain-rmse:0.17014\tdval-rmse:0.23404\n",
      "[86]\ttrain-rmse:0.16966\tdval-rmse:0.23401\n",
      "[87]\ttrain-rmse:0.16916\tdval-rmse:0.23388\n",
      "[88]\ttrain-rmse:0.16882\tdval-rmse:0.23364\n",
      "[89]\ttrain-rmse:0.16835\tdval-rmse:0.23339\n",
      "[90]\ttrain-rmse:0.16797\tdval-rmse:0.23332\n",
      "[91]\ttrain-rmse:0.16756\tdval-rmse:0.23330\n",
      "[92]\ttrain-rmse:0.16707\tdval-rmse:0.23298\n",
      "[93]\ttrain-rmse:0.16623\tdval-rmse:0.23273\n",
      "[94]\ttrain-rmse:0.16586\tdval-rmse:0.23279\n",
      "[95]\ttrain-rmse:0.16562\tdval-rmse:0.23276\n",
      "[96]\ttrain-rmse:0.16524\tdval-rmse:0.23266\n",
      "[97]\ttrain-rmse:0.16444\tdval-rmse:0.23246\n",
      "[98]\ttrain-rmse:0.16383\tdval-rmse:0.23222\n",
      "[99]\ttrain-rmse:0.16323\tdval-rmse:0.23209\n"
     ]
    }
   ],
   "source": [
    "# Now change eta from 0.3 to 0.1.\n",
    "xgb_params = {\n",
    "    'eta': 0.1, \n",
    "    'max_depth': 6,\n",
    "    'min_child_weight': 1,\n",
    "\n",
    "    'objective': 'reg:squarederror',\n",
    "    'nthread': 8,\n",
    "\n",
    "    'seed': 1,\n",
    "    'verbosity': 1,\n",
    "}\n",
    "\n",
    "model = xgb.train(xgb_params, dtrain, num_boost_round=100, evals=watchlist)"
   ]
  },
  {
   "cell_type": "code",
   "execution_count": 47,
   "metadata": {},
   "outputs": [],
   "source": [
    "# Which eta leads to the best RMSE score on the validation dataset?"
   ]
  },
  {
   "cell_type": "markdown",
   "metadata": {},
   "source": [
    "`0.3`"
   ]
  }
 ],
 "metadata": {
  "kernelspec": {
   "display_name": "Python 3",
   "language": "python",
   "name": "python3"
  },
  "language_info": {
   "codemirror_mode": {
    "name": "ipython",
    "version": 3
   },
   "file_extension": ".py",
   "mimetype": "text/x-python",
   "name": "python",
   "nbconvert_exporter": "python",
   "pygments_lexer": "ipython3",
   "version": "3.10.12"
  },
  "orig_nbformat": 4
 },
 "nbformat": 4,
 "nbformat_minor": 2
}
